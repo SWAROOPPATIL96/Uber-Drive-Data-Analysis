{
 "cells": [
  {
   "cell_type": "markdown",
   "id": "8b697331",
   "metadata": {
    "papermill": {
     "duration": 0.042349,
     "end_time": "2022-01-22T11:49:31.375028",
     "exception": false,
     "start_time": "2022-01-22T11:49:31.332679",
     "status": "completed"
    },
    "tags": []
   },
   "source": [
    "# Uber Ride Data Analysis"
   ]
  },
  {
   "cell_type": "markdown",
   "id": "2c8d1612",
   "metadata": {
    "papermill": {
     "duration": 0.040663,
     "end_time": "2022-01-22T11:49:31.459849",
     "exception": false,
     "start_time": "2022-01-22T11:49:31.419186",
     "status": "completed"
    },
    "tags": []
   },
   "source": [
    "This dataset contains details of uber rides of a customer.<br>\n",
    "**Dataset:** The dataset contains Start Date, End Date, Start Location, End Location, Miles Driven and Purpose of drive (Business, Personal, Meals etc) [dataset](https://www.kaggle.com/zusmani/uberdrives).<br>\n"
   ]
  },
  {
   "cell_type": "markdown",
   "id": "c2125af5",
   "metadata": {
    "papermill": {
     "duration": 0.039662,
     "end_time": "2022-01-22T11:49:31.540695",
     "exception": false,
     "start_time": "2022-01-22T11:49:31.501033",
     "status": "completed"
    },
    "tags": []
   },
   "source": [
    "# Objective"
   ]
  },
  {
   "cell_type": "markdown",
   "id": "6ba749ed",
   "metadata": {
    "papermill": {
     "duration": 0.040517,
     "end_time": "2022-01-22T11:49:31.622486",
     "exception": false,
     "start_time": "2022-01-22T11:49:31.581969",
     "status": "completed"
    },
    "tags": []
   },
   "source": [
    "To fetch insights from the behavior of an common Uber customer."
   ]
  },
  {
   "cell_type": "markdown",
   "id": "bc5a0f22",
   "metadata": {
    "papermill": {
     "duration": 0.040551,
     "end_time": "2022-01-22T11:49:31.702975",
     "exception": false,
     "start_time": "2022-01-22T11:49:31.662424",
     "status": "completed"
    },
    "tags": []
   },
   "source": [
    "# Importing libraries"
   ]
  },
  {
   "cell_type": "code",
   "execution_count": 1,
   "id": "4e0f821a",
   "metadata": {
    "_cell_guid": "b1076dfc-b9ad-4769-8c92-a6c4dae69d19",
    "_uuid": "8f2839f25d086af736a60e9eeb907d3b93b6e0e5",
    "execution": {
     "iopub.execute_input": "2022-01-22T11:49:31.791865Z",
     "iopub.status.busy": "2022-01-22T11:49:31.790726Z",
     "iopub.status.idle": "2022-01-22T11:49:32.957200Z",
     "shell.execute_reply": "2022-01-22T11:49:32.957680Z",
     "shell.execute_reply.started": "2022-01-22T11:02:32.496701Z"
    },
    "papermill": {
     "duration": 1.213575,
     "end_time": "2022-01-22T11:49:32.957991",
     "exception": false,
     "start_time": "2022-01-22T11:49:31.744416",
     "status": "completed"
    },
    "tags": []
   },
   "outputs": [
    {
     "name": "stdout",
     "output_type": "stream",
     "text": [
      "/kaggle/input/uberdrives/My Uber Drives - 2016.csv\n"
     ]
    }
   ],
   "source": [
    "import numpy as np \n",
    "import pandas as pd\n",
    "import matplotlib.pyplot as plt\n",
    "import seaborn as sns\n",
    "import calendar\n",
    "\n",
    "import os\n",
    "for dirname, _, filenames in os.walk('/kaggle/input'):\n",
    "    for filename in filenames:\n",
    "        print(os.path.join(dirname, filename))"
   ]
  },
  {
   "cell_type": "markdown",
   "id": "b796ed3e",
   "metadata": {
    "papermill": {
     "duration": 0.044293,
     "end_time": "2022-01-22T11:49:33.043765",
     "exception": false,
     "start_time": "2022-01-22T11:49:32.999472",
     "status": "completed"
    },
    "tags": []
   },
   "source": [
    "# Loading dataset"
   ]
  },
  {
   "cell_type": "code",
   "execution_count": 2,
   "id": "1eba4def",
   "metadata": {
    "execution": {
     "iopub.execute_input": "2022-01-22T11:49:33.135414Z",
     "iopub.status.busy": "2022-01-22T11:49:33.134406Z",
     "iopub.status.idle": "2022-01-22T11:49:33.181090Z",
     "shell.execute_reply": "2022-01-22T11:49:33.180370Z",
     "shell.execute_reply.started": "2022-01-22T10:12:37.122321Z"
    },
    "papermill": {
     "duration": 0.094104,
     "end_time": "2022-01-22T11:49:33.181248",
     "exception": false,
     "start_time": "2022-01-22T11:49:33.087144",
     "status": "completed"
    },
    "tags": []
   },
   "outputs": [
    {
     "data": {
      "text/html": [
       "<div>\n",
       "<style scoped>\n",
       "    .dataframe tbody tr th:only-of-type {\n",
       "        vertical-align: middle;\n",
       "    }\n",
       "\n",
       "    .dataframe tbody tr th {\n",
       "        vertical-align: top;\n",
       "    }\n",
       "\n",
       "    .dataframe thead th {\n",
       "        text-align: right;\n",
       "    }\n",
       "</style>\n",
       "<table border=\"1\" class=\"dataframe\">\n",
       "  <thead>\n",
       "    <tr style=\"text-align: right;\">\n",
       "      <th></th>\n",
       "      <th>START_DATE*</th>\n",
       "      <th>END_DATE*</th>\n",
       "      <th>CATEGORY*</th>\n",
       "      <th>START*</th>\n",
       "      <th>STOP*</th>\n",
       "      <th>MILES*</th>\n",
       "      <th>PURPOSE*</th>\n",
       "    </tr>\n",
       "  </thead>\n",
       "  <tbody>\n",
       "    <tr>\n",
       "      <th>0</th>\n",
       "      <td>1/1/2016 21:11</td>\n",
       "      <td>1/1/2016 21:17</td>\n",
       "      <td>Business</td>\n",
       "      <td>Fort Pierce</td>\n",
       "      <td>Fort Pierce</td>\n",
       "      <td>5.1</td>\n",
       "      <td>Meal/Entertain</td>\n",
       "    </tr>\n",
       "    <tr>\n",
       "      <th>1</th>\n",
       "      <td>1/2/2016 1:25</td>\n",
       "      <td>1/2/2016 1:37</td>\n",
       "      <td>Business</td>\n",
       "      <td>Fort Pierce</td>\n",
       "      <td>Fort Pierce</td>\n",
       "      <td>5.0</td>\n",
       "      <td>NaN</td>\n",
       "    </tr>\n",
       "    <tr>\n",
       "      <th>2</th>\n",
       "      <td>1/2/2016 20:25</td>\n",
       "      <td>1/2/2016 20:38</td>\n",
       "      <td>Business</td>\n",
       "      <td>Fort Pierce</td>\n",
       "      <td>Fort Pierce</td>\n",
       "      <td>4.8</td>\n",
       "      <td>Errand/Supplies</td>\n",
       "    </tr>\n",
       "    <tr>\n",
       "      <th>3</th>\n",
       "      <td>1/5/2016 17:31</td>\n",
       "      <td>1/5/2016 17:45</td>\n",
       "      <td>Business</td>\n",
       "      <td>Fort Pierce</td>\n",
       "      <td>Fort Pierce</td>\n",
       "      <td>4.7</td>\n",
       "      <td>Meeting</td>\n",
       "    </tr>\n",
       "    <tr>\n",
       "      <th>4</th>\n",
       "      <td>1/6/2016 14:42</td>\n",
       "      <td>1/6/2016 15:49</td>\n",
       "      <td>Business</td>\n",
       "      <td>Fort Pierce</td>\n",
       "      <td>West Palm Beach</td>\n",
       "      <td>63.7</td>\n",
       "      <td>Customer Visit</td>\n",
       "    </tr>\n",
       "  </tbody>\n",
       "</table>\n",
       "</div>"
      ],
      "text/plain": [
       "      START_DATE*       END_DATE* CATEGORY*       START*            STOP*  \\\n",
       "0  1/1/2016 21:11  1/1/2016 21:17  Business  Fort Pierce      Fort Pierce   \n",
       "1   1/2/2016 1:25   1/2/2016 1:37  Business  Fort Pierce      Fort Pierce   \n",
       "2  1/2/2016 20:25  1/2/2016 20:38  Business  Fort Pierce      Fort Pierce   \n",
       "3  1/5/2016 17:31  1/5/2016 17:45  Business  Fort Pierce      Fort Pierce   \n",
       "4  1/6/2016 14:42  1/6/2016 15:49  Business  Fort Pierce  West Palm Beach   \n",
       "\n",
       "   MILES*         PURPOSE*  \n",
       "0     5.1   Meal/Entertain  \n",
       "1     5.0              NaN  \n",
       "2     4.8  Errand/Supplies  \n",
       "3     4.7          Meeting  \n",
       "4    63.7   Customer Visit  "
      ]
     },
     "execution_count": 2,
     "metadata": {},
     "output_type": "execute_result"
    }
   ],
   "source": [
    "df = pd.read_csv('/kaggle/input/uberdrives/My Uber Drives - 2016.csv')\n",
    "df.head()"
   ]
  },
  {
   "cell_type": "code",
   "execution_count": 3,
   "id": "dd987915",
   "metadata": {
    "execution": {
     "iopub.execute_input": "2022-01-22T11:49:33.279499Z",
     "iopub.status.busy": "2022-01-22T11:49:33.278679Z",
     "iopub.status.idle": "2022-01-22T11:49:33.282350Z",
     "shell.execute_reply": "2022-01-22T11:49:33.282794Z",
     "shell.execute_reply.started": "2022-01-22T10:12:37.172322Z"
    },
    "papermill": {
     "duration": 0.058267,
     "end_time": "2022-01-22T11:49:33.282979",
     "exception": false,
     "start_time": "2022-01-22T11:49:33.224712",
     "status": "completed"
    },
    "tags": []
   },
   "outputs": [
    {
     "data": {
      "text/html": [
       "<div>\n",
       "<style scoped>\n",
       "    .dataframe tbody tr th:only-of-type {\n",
       "        vertical-align: middle;\n",
       "    }\n",
       "\n",
       "    .dataframe tbody tr th {\n",
       "        vertical-align: top;\n",
       "    }\n",
       "\n",
       "    .dataframe thead th {\n",
       "        text-align: right;\n",
       "    }\n",
       "</style>\n",
       "<table border=\"1\" class=\"dataframe\">\n",
       "  <thead>\n",
       "    <tr style=\"text-align: right;\">\n",
       "      <th></th>\n",
       "      <th>START_DATE*</th>\n",
       "      <th>END_DATE*</th>\n",
       "      <th>CATEGORY*</th>\n",
       "      <th>START*</th>\n",
       "      <th>STOP*</th>\n",
       "      <th>MILES*</th>\n",
       "      <th>PURPOSE*</th>\n",
       "    </tr>\n",
       "  </thead>\n",
       "  <tbody>\n",
       "    <tr>\n",
       "      <th>1151</th>\n",
       "      <td>12/31/2016 13:24</td>\n",
       "      <td>12/31/2016 13:42</td>\n",
       "      <td>Business</td>\n",
       "      <td>Kar?chi</td>\n",
       "      <td>Unknown Location</td>\n",
       "      <td>3.9</td>\n",
       "      <td>Temporary Site</td>\n",
       "    </tr>\n",
       "    <tr>\n",
       "      <th>1152</th>\n",
       "      <td>12/31/2016 15:03</td>\n",
       "      <td>12/31/2016 15:38</td>\n",
       "      <td>Business</td>\n",
       "      <td>Unknown Location</td>\n",
       "      <td>Unknown Location</td>\n",
       "      <td>16.2</td>\n",
       "      <td>Meeting</td>\n",
       "    </tr>\n",
       "    <tr>\n",
       "      <th>1153</th>\n",
       "      <td>12/31/2016 21:32</td>\n",
       "      <td>12/31/2016 21:50</td>\n",
       "      <td>Business</td>\n",
       "      <td>Katunayake</td>\n",
       "      <td>Gampaha</td>\n",
       "      <td>6.4</td>\n",
       "      <td>Temporary Site</td>\n",
       "    </tr>\n",
       "    <tr>\n",
       "      <th>1154</th>\n",
       "      <td>12/31/2016 22:08</td>\n",
       "      <td>12/31/2016 23:51</td>\n",
       "      <td>Business</td>\n",
       "      <td>Gampaha</td>\n",
       "      <td>Ilukwatta</td>\n",
       "      <td>48.2</td>\n",
       "      <td>Temporary Site</td>\n",
       "    </tr>\n",
       "    <tr>\n",
       "      <th>1155</th>\n",
       "      <td>Totals</td>\n",
       "      <td>NaN</td>\n",
       "      <td>NaN</td>\n",
       "      <td>NaN</td>\n",
       "      <td>NaN</td>\n",
       "      <td>12204.7</td>\n",
       "      <td>NaN</td>\n",
       "    </tr>\n",
       "  </tbody>\n",
       "</table>\n",
       "</div>"
      ],
      "text/plain": [
       "           START_DATE*         END_DATE* CATEGORY*            START*  \\\n",
       "1151  12/31/2016 13:24  12/31/2016 13:42  Business           Kar?chi   \n",
       "1152  12/31/2016 15:03  12/31/2016 15:38  Business  Unknown Location   \n",
       "1153  12/31/2016 21:32  12/31/2016 21:50  Business        Katunayake   \n",
       "1154  12/31/2016 22:08  12/31/2016 23:51  Business           Gampaha   \n",
       "1155            Totals               NaN       NaN               NaN   \n",
       "\n",
       "                 STOP*   MILES*        PURPOSE*  \n",
       "1151  Unknown Location      3.9  Temporary Site  \n",
       "1152  Unknown Location     16.2         Meeting  \n",
       "1153           Gampaha      6.4  Temporary Site  \n",
       "1154         Ilukwatta     48.2  Temporary Site  \n",
       "1155               NaN  12204.7             NaN  "
      ]
     },
     "execution_count": 3,
     "metadata": {},
     "output_type": "execute_result"
    }
   ],
   "source": [
    "df.tail()"
   ]
  },
  {
   "cell_type": "code",
   "execution_count": 4,
   "id": "98bd7079",
   "metadata": {
    "execution": {
     "iopub.execute_input": "2022-01-22T11:49:33.379369Z",
     "iopub.status.busy": "2022-01-22T11:49:33.378733Z",
     "iopub.status.idle": "2022-01-22T11:49:33.383584Z",
     "shell.execute_reply": "2022-01-22T11:49:33.384137Z",
     "shell.execute_reply.started": "2022-01-22T10:12:37.189514Z"
    },
    "papermill": {
     "duration": 0.05501,
     "end_time": "2022-01-22T11:49:33.384308",
     "exception": false,
     "start_time": "2022-01-22T11:49:33.329298",
     "status": "completed"
    },
    "tags": []
   },
   "outputs": [
    {
     "name": "stdout",
     "output_type": "stream",
     "text": [
      "(1156, 7)\n"
     ]
    },
    {
     "data": {
      "text/plain": [
       "START_DATE*     object\n",
       "END_DATE*       object\n",
       "CATEGORY*       object\n",
       "START*          object\n",
       "STOP*           object\n",
       "MILES*         float64\n",
       "PURPOSE*        object\n",
       "dtype: object"
      ]
     },
     "execution_count": 4,
     "metadata": {},
     "output_type": "execute_result"
    }
   ],
   "source": [
    "print(df.shape)\n",
    "df.dtypes"
   ]
  },
  {
   "cell_type": "markdown",
   "id": "56f6b3ee",
   "metadata": {
    "papermill": {
     "duration": 0.041216,
     "end_time": "2022-01-22T11:49:33.468906",
     "exception": false,
     "start_time": "2022-01-22T11:49:33.427690",
     "status": "completed"
    },
    "tags": []
   },
   "source": [
    "**There are 6 catagorical vars and 1 numeric type variable**<br>\n",
    "***Here STATR_DATE* and END_DATE* are in object type. We need to convert them back into datetime variable***"
   ]
  },
  {
   "cell_type": "markdown",
   "id": "80755346",
   "metadata": {
    "papermill": {
     "duration": 0.041309,
     "end_time": "2022-01-22T11:49:33.553223",
     "exception": false,
     "start_time": "2022-01-22T11:49:33.511914",
     "status": "completed"
    },
    "tags": []
   },
   "source": [
    "# Checking for null values"
   ]
  },
  {
   "cell_type": "code",
   "execution_count": 5,
   "id": "00b67e69",
   "metadata": {
    "execution": {
     "iopub.execute_input": "2022-01-22T11:49:33.646117Z",
     "iopub.status.busy": "2022-01-22T11:49:33.645527Z",
     "iopub.status.idle": "2022-01-22T11:49:33.650254Z",
     "shell.execute_reply": "2022-01-22T11:49:33.650700Z",
     "shell.execute_reply.started": "2022-01-22T10:12:37.206415Z"
    },
    "papermill": {
     "duration": 0.054342,
     "end_time": "2022-01-22T11:49:33.650884",
     "exception": false,
     "start_time": "2022-01-22T11:49:33.596542",
     "status": "completed"
    },
    "tags": []
   },
   "outputs": [
    {
     "data": {
      "text/plain": [
       "START_DATE*      0\n",
       "END_DATE*        1\n",
       "CATEGORY*        1\n",
       "START*           1\n",
       "STOP*            1\n",
       "MILES*           0\n",
       "PURPOSE*       503\n",
       "dtype: int64"
      ]
     },
     "execution_count": 5,
     "metadata": {},
     "output_type": "execute_result"
    }
   ],
   "source": [
    "df.isna().sum()"
   ]
  },
  {
   "cell_type": "code",
   "execution_count": 6,
   "id": "365f68ba",
   "metadata": {
    "execution": {
     "iopub.execute_input": "2022-01-22T11:49:33.744183Z",
     "iopub.status.busy": "2022-01-22T11:49:33.739653Z",
     "iopub.status.idle": "2022-01-22T11:49:33.756714Z",
     "shell.execute_reply": "2022-01-22T11:49:33.757210Z",
     "shell.execute_reply.started": "2022-01-22T10:12:37.222702Z"
    },
    "papermill": {
     "duration": 0.065531,
     "end_time": "2022-01-22T11:49:33.757376",
     "exception": false,
     "start_time": "2022-01-22T11:49:33.691845",
     "status": "completed"
    },
    "tags": []
   },
   "outputs": [
    {
     "data": {
      "text/html": [
       "<div>\n",
       "<style scoped>\n",
       "    .dataframe tbody tr th:only-of-type {\n",
       "        vertical-align: middle;\n",
       "    }\n",
       "\n",
       "    .dataframe tbody tr th {\n",
       "        vertical-align: top;\n",
       "    }\n",
       "\n",
       "    .dataframe thead th {\n",
       "        text-align: right;\n",
       "    }\n",
       "</style>\n",
       "<table border=\"1\" class=\"dataframe\">\n",
       "  <thead>\n",
       "    <tr style=\"text-align: right;\">\n",
       "      <th></th>\n",
       "      <th>START_DATE*</th>\n",
       "      <th>END_DATE*</th>\n",
       "      <th>CATEGORY*</th>\n",
       "      <th>START*</th>\n",
       "      <th>STOP*</th>\n",
       "      <th>MILES*</th>\n",
       "      <th>PURPOSE*</th>\n",
       "    </tr>\n",
       "  </thead>\n",
       "  <tbody>\n",
       "    <tr>\n",
       "      <th>1155</th>\n",
       "      <td>Totals</td>\n",
       "      <td>NaN</td>\n",
       "      <td>NaN</td>\n",
       "      <td>NaN</td>\n",
       "      <td>NaN</td>\n",
       "      <td>12204.7</td>\n",
       "      <td>NaN</td>\n",
       "    </tr>\n",
       "  </tbody>\n",
       "</table>\n",
       "</div>"
      ],
      "text/plain": [
       "     START_DATE* END_DATE* CATEGORY* START* STOP*   MILES* PURPOSE*\n",
       "1155      Totals       NaN       NaN    NaN   NaN  12204.7      NaN"
      ]
     },
     "execution_count": 6,
     "metadata": {},
     "output_type": "execute_result"
    }
   ],
   "source": [
    "df[df['END_DATE*'].isna()]"
   ]
  },
  {
   "cell_type": "markdown",
   "id": "5157760c",
   "metadata": {
    "papermill": {
     "duration": 0.043486,
     "end_time": "2022-01-22T11:49:33.844469",
     "exception": false,
     "start_time": "2022-01-22T11:49:33.800983",
     "status": "completed"
    },
    "tags": []
   },
   "source": [
    "**As we can see this row contains wrong data for most of the columns. We will delete it**"
   ]
  },
  {
   "cell_type": "code",
   "execution_count": 7,
   "id": "488db3a9",
   "metadata": {
    "execution": {
     "iopub.execute_input": "2022-01-22T11:49:33.938403Z",
     "iopub.status.busy": "2022-01-22T11:49:33.934981Z",
     "iopub.status.idle": "2022-01-22T11:49:33.941835Z",
     "shell.execute_reply": "2022-01-22T11:49:33.941225Z",
     "shell.execute_reply.started": "2022-01-22T10:12:37.251872Z"
    },
    "papermill": {
     "duration": 0.052769,
     "end_time": "2022-01-22T11:49:33.941976",
     "exception": false,
     "start_time": "2022-01-22T11:49:33.889207",
     "status": "completed"
    },
    "tags": []
   },
   "outputs": [],
   "source": [
    "# dropping row containing null vals\n",
    "df.drop(df[df['END_DATE*'].isna()].index,axis=0,inplace=True)"
   ]
  },
  {
   "cell_type": "code",
   "execution_count": 8,
   "id": "ddb937a6",
   "metadata": {
    "execution": {
     "iopub.execute_input": "2022-01-22T11:49:34.036857Z",
     "iopub.status.busy": "2022-01-22T11:49:34.035735Z",
     "iopub.status.idle": "2022-01-22T11:49:34.040728Z",
     "shell.execute_reply": "2022-01-22T11:49:34.040210Z",
     "shell.execute_reply.started": "2022-01-22T10:12:37.261657Z"
    },
    "papermill": {
     "duration": 0.055044,
     "end_time": "2022-01-22T11:49:34.040914",
     "exception": false,
     "start_time": "2022-01-22T11:49:33.985870",
     "status": "completed"
    },
    "tags": []
   },
   "outputs": [
    {
     "data": {
      "text/plain": [
       "START_DATE*      0\n",
       "END_DATE*        0\n",
       "CATEGORY*        0\n",
       "START*           0\n",
       "STOP*            0\n",
       "MILES*           0\n",
       "PURPOSE*       502\n",
       "dtype: int64"
      ]
     },
     "execution_count": 8,
     "metadata": {},
     "output_type": "execute_result"
    }
   ],
   "source": [
    "df.isna().sum()"
   ]
  },
  {
   "cell_type": "code",
   "execution_count": 9,
   "id": "143ea4f6",
   "metadata": {
    "execution": {
     "iopub.execute_input": "2022-01-22T11:49:34.138878Z",
     "iopub.status.busy": "2022-01-22T11:49:34.138249Z",
     "iopub.status.idle": "2022-01-22T11:49:34.154773Z",
     "shell.execute_reply": "2022-01-22T11:49:34.154184Z",
     "shell.execute_reply.started": "2022-01-22T11:24:36.167098Z"
    },
    "papermill": {
     "duration": 0.068543,
     "end_time": "2022-01-22T11:49:34.154930",
     "exception": false,
     "start_time": "2022-01-22T11:49:34.086387",
     "status": "completed"
    },
    "tags": []
   },
   "outputs": [
    {
     "name": "stdout",
     "output_type": "stream",
     "text": [
      "<class 'pandas.core.frame.DataFrame'>\n",
      "Int64Index: 1155 entries, 0 to 1154\n",
      "Data columns (total 7 columns):\n",
      " #   Column       Non-Null Count  Dtype  \n",
      "---  ------       --------------  -----  \n",
      " 0   START_DATE*  1155 non-null   object \n",
      " 1   END_DATE*    1155 non-null   object \n",
      " 2   CATEGORY*    1155 non-null   object \n",
      " 3   START*       1155 non-null   object \n",
      " 4   STOP*        1155 non-null   object \n",
      " 5   MILES*       1155 non-null   float64\n",
      " 6   PURPOSE*     653 non-null    object \n",
      "dtypes: float64(1), object(6)\n",
      "memory usage: 72.2+ KB\n"
     ]
    }
   ],
   "source": [
    "df.info()"
   ]
  },
  {
   "cell_type": "markdown",
   "id": "1b161a21",
   "metadata": {
    "papermill": {
     "duration": 0.045239,
     "end_time": "2022-01-22T11:49:34.243699",
     "exception": false,
     "start_time": "2022-01-22T11:49:34.198460",
     "status": "completed"
    },
    "tags": []
   },
   "source": [
    "**Now we have null data only in Purpose column. <br>\n",
    "As we have more than 55% data missing. So I am dropping this columns and excluding this from this analysis.**\n",
    "<br> You may also delete the null value rows and include this column in the analysis.<br>\n",
    "```sns.countplot(df['PURPOSE*'], order=df['PURPOSE*'].value_counts().index)```\n"
   ]
  },
  {
   "cell_type": "code",
   "execution_count": 10,
   "id": "9c11a1cf",
   "metadata": {
    "execution": {
     "iopub.execute_input": "2022-01-22T11:49:34.336027Z",
     "iopub.status.busy": "2022-01-22T11:49:34.335370Z",
     "iopub.status.idle": "2022-01-22T11:49:34.346075Z",
     "shell.execute_reply": "2022-01-22T11:49:34.346503Z",
     "shell.execute_reply.started": "2022-01-22T11:28:02.261553Z"
    },
    "papermill": {
     "duration": 0.05829,
     "end_time": "2022-01-22T11:49:34.346676",
     "exception": false,
     "start_time": "2022-01-22T11:49:34.288386",
     "status": "completed"
    },
    "tags": []
   },
   "outputs": [
    {
     "data": {
      "text/html": [
       "<div>\n",
       "<style scoped>\n",
       "    .dataframe tbody tr th:only-of-type {\n",
       "        vertical-align: middle;\n",
       "    }\n",
       "\n",
       "    .dataframe tbody tr th {\n",
       "        vertical-align: top;\n",
       "    }\n",
       "\n",
       "    .dataframe thead th {\n",
       "        text-align: right;\n",
       "    }\n",
       "</style>\n",
       "<table border=\"1\" class=\"dataframe\">\n",
       "  <thead>\n",
       "    <tr style=\"text-align: right;\">\n",
       "      <th></th>\n",
       "      <th>START_DATE*</th>\n",
       "      <th>END_DATE*</th>\n",
       "      <th>CATEGORY*</th>\n",
       "      <th>START*</th>\n",
       "      <th>STOP*</th>\n",
       "      <th>MILES*</th>\n",
       "    </tr>\n",
       "  </thead>\n",
       "  <tbody>\n",
       "    <tr>\n",
       "      <th>0</th>\n",
       "      <td>1/1/2016 21:11</td>\n",
       "      <td>1/1/2016 21:17</td>\n",
       "      <td>Business</td>\n",
       "      <td>Fort Pierce</td>\n",
       "      <td>Fort Pierce</td>\n",
       "      <td>5.1</td>\n",
       "    </tr>\n",
       "    <tr>\n",
       "      <th>1</th>\n",
       "      <td>1/2/2016 1:25</td>\n",
       "      <td>1/2/2016 1:37</td>\n",
       "      <td>Business</td>\n",
       "      <td>Fort Pierce</td>\n",
       "      <td>Fort Pierce</td>\n",
       "      <td>5.0</td>\n",
       "    </tr>\n",
       "  </tbody>\n",
       "</table>\n",
       "</div>"
      ],
      "text/plain": [
       "      START_DATE*       END_DATE* CATEGORY*       START*        STOP*  MILES*\n",
       "0  1/1/2016 21:11  1/1/2016 21:17  Business  Fort Pierce  Fort Pierce     5.1\n",
       "1   1/2/2016 1:25   1/2/2016 1:37  Business  Fort Pierce  Fort Pierce     5.0"
      ]
     },
     "execution_count": 10,
     "metadata": {},
     "output_type": "execute_result"
    }
   ],
   "source": [
    "# droppig Purpose\n",
    "df.drop(['PURPOSE*'],axis=1,inplace=True)\n",
    "df.head(2)"
   ]
  },
  {
   "cell_type": "markdown",
   "id": "3750e728",
   "metadata": {
    "papermill": {
     "duration": 0.042572,
     "end_time": "2022-01-22T11:49:34.433020",
     "exception": false,
     "start_time": "2022-01-22T11:49:34.390448",
     "status": "completed"
    },
    "tags": []
   },
   "source": [
    "# Checking for duplicate rows"
   ]
  },
  {
   "cell_type": "code",
   "execution_count": 11,
   "id": "489c8fbb",
   "metadata": {
    "execution": {
     "iopub.execute_input": "2022-01-22T11:49:34.521776Z",
     "iopub.status.busy": "2022-01-22T11:49:34.521165Z",
     "iopub.status.idle": "2022-01-22T11:49:34.537286Z",
     "shell.execute_reply": "2022-01-22T11:49:34.537694Z",
     "shell.execute_reply.started": "2022-01-22T10:12:37.279179Z"
    },
    "papermill": {
     "duration": 0.061666,
     "end_time": "2022-01-22T11:49:34.537880",
     "exception": false,
     "start_time": "2022-01-22T11:49:34.476214",
     "status": "completed"
    },
    "tags": []
   },
   "outputs": [
    {
     "data": {
      "text/html": [
       "<div>\n",
       "<style scoped>\n",
       "    .dataframe tbody tr th:only-of-type {\n",
       "        vertical-align: middle;\n",
       "    }\n",
       "\n",
       "    .dataframe tbody tr th {\n",
       "        vertical-align: top;\n",
       "    }\n",
       "\n",
       "    .dataframe thead th {\n",
       "        text-align: right;\n",
       "    }\n",
       "</style>\n",
       "<table border=\"1\" class=\"dataframe\">\n",
       "  <thead>\n",
       "    <tr style=\"text-align: right;\">\n",
       "      <th></th>\n",
       "      <th>START_DATE*</th>\n",
       "      <th>END_DATE*</th>\n",
       "      <th>CATEGORY*</th>\n",
       "      <th>START*</th>\n",
       "      <th>STOP*</th>\n",
       "      <th>MILES*</th>\n",
       "    </tr>\n",
       "  </thead>\n",
       "  <tbody>\n",
       "    <tr>\n",
       "      <th>492</th>\n",
       "      <td>6/28/2016 23:34</td>\n",
       "      <td>6/28/2016 23:59</td>\n",
       "      <td>Business</td>\n",
       "      <td>Durham</td>\n",
       "      <td>Cary</td>\n",
       "      <td>9.9</td>\n",
       "    </tr>\n",
       "  </tbody>\n",
       "</table>\n",
       "</div>"
      ],
      "text/plain": [
       "         START_DATE*        END_DATE* CATEGORY*  START* STOP*  MILES*\n",
       "492  6/28/2016 23:34  6/28/2016 23:59  Business  Durham  Cary     9.9"
      ]
     },
     "execution_count": 11,
     "metadata": {},
     "output_type": "execute_result"
    }
   ],
   "source": [
    "df[df.duplicated()]"
   ]
  },
  {
   "cell_type": "markdown",
   "id": "8cff516b",
   "metadata": {
    "papermill": {
     "duration": 0.045027,
     "end_time": "2022-01-22T11:49:34.627118",
     "exception": false,
     "start_time": "2022-01-22T11:49:34.582091",
     "status": "completed"
    },
    "tags": []
   },
   "source": [
    "We will remove this duplicate row"
   ]
  },
  {
   "cell_type": "code",
   "execution_count": 12,
   "id": "bb4f9f35",
   "metadata": {
    "execution": {
     "iopub.execute_input": "2022-01-22T11:49:34.717730Z",
     "iopub.status.busy": "2022-01-22T11:49:34.717126Z",
     "iopub.status.idle": "2022-01-22T11:49:34.729890Z",
     "shell.execute_reply": "2022-01-22T11:49:34.730375Z",
     "shell.execute_reply.started": "2022-01-22T10:12:37.303854Z"
    },
    "papermill": {
     "duration": 0.060185,
     "end_time": "2022-01-22T11:49:34.730545",
     "exception": false,
     "start_time": "2022-01-22T11:49:34.670360",
     "status": "completed"
    },
    "tags": []
   },
   "outputs": [
    {
     "data": {
      "text/html": [
       "<div>\n",
       "<style scoped>\n",
       "    .dataframe tbody tr th:only-of-type {\n",
       "        vertical-align: middle;\n",
       "    }\n",
       "\n",
       "    .dataframe tbody tr th {\n",
       "        vertical-align: top;\n",
       "    }\n",
       "\n",
       "    .dataframe thead th {\n",
       "        text-align: right;\n",
       "    }\n",
       "</style>\n",
       "<table border=\"1\" class=\"dataframe\">\n",
       "  <thead>\n",
       "    <tr style=\"text-align: right;\">\n",
       "      <th></th>\n",
       "      <th>START_DATE*</th>\n",
       "      <th>END_DATE*</th>\n",
       "      <th>CATEGORY*</th>\n",
       "      <th>START*</th>\n",
       "      <th>STOP*</th>\n",
       "      <th>MILES*</th>\n",
       "    </tr>\n",
       "  </thead>\n",
       "  <tbody>\n",
       "  </tbody>\n",
       "</table>\n",
       "</div>"
      ],
      "text/plain": [
       "Empty DataFrame\n",
       "Columns: [START_DATE*, END_DATE*, CATEGORY*, START*, STOP*, MILES*]\n",
       "Index: []"
      ]
     },
     "execution_count": 12,
     "metadata": {},
     "output_type": "execute_result"
    }
   ],
   "source": [
    "df.drop(df[df.duplicated()].index, axis=0, inplace=True)\n",
    "df[df.duplicated()]"
   ]
  },
  {
   "cell_type": "markdown",
   "id": "5177a2e9",
   "metadata": {
    "papermill": {
     "duration": 0.045821,
     "end_time": "2022-01-22T11:49:34.820094",
     "exception": false,
     "start_time": "2022-01-22T11:49:34.774273",
     "status": "completed"
    },
    "tags": []
   },
   "source": [
    "**Converting start_date & end_date cols into datetime** "
   ]
  },
  {
   "cell_type": "code",
   "execution_count": 13,
   "id": "7ab39166",
   "metadata": {
    "execution": {
     "iopub.execute_input": "2022-01-22T11:49:34.918391Z",
     "iopub.status.busy": "2022-01-22T11:49:34.917450Z",
     "iopub.status.idle": "2022-01-22T11:49:34.936572Z",
     "shell.execute_reply": "2022-01-22T11:49:34.936993Z",
     "shell.execute_reply.started": "2022-01-22T10:12:37.326300Z"
    },
    "papermill": {
     "duration": 0.068764,
     "end_time": "2022-01-22T11:49:34.937171",
     "exception": false,
     "start_time": "2022-01-22T11:49:34.868407",
     "status": "completed"
    },
    "tags": []
   },
   "outputs": [
    {
     "data": {
      "text/plain": [
       "START_DATE*    datetime64[ns]\n",
       "END_DATE*      datetime64[ns]\n",
       "CATEGORY*              object\n",
       "START*                 object\n",
       "STOP*                  object\n",
       "MILES*                float64\n",
       "dtype: object"
      ]
     },
     "execution_count": 13,
     "metadata": {},
     "output_type": "execute_result"
    }
   ],
   "source": [
    "df['START_DATE*'] = pd.to_datetime(df['START_DATE*'], format='%m/%d/%Y %H:%M')\n",
    "df['END_DATE*'] = pd.to_datetime(df['END_DATE*'], format='%m/%d/%Y %H:%M')\n",
    "df.dtypes"
   ]
  },
  {
   "cell_type": "markdown",
   "id": "d1eb180e",
   "metadata": {
    "papermill": {
     "duration": 0.047219,
     "end_time": "2022-01-22T11:49:35.031185",
     "exception": false,
     "start_time": "2022-01-22T11:49:34.983966",
     "status": "completed"
    },
    "tags": []
   },
   "source": [
    "# EDA"
   ]
  },
  {
   "cell_type": "markdown",
   "id": "a151bacb",
   "metadata": {
    "papermill": {
     "duration": 0.04446,
     "end_time": "2022-01-22T11:49:35.119622",
     "exception": false,
     "start_time": "2022-01-22T11:49:35.075162",
     "status": "completed"
    },
    "tags": []
   },
   "source": [
    "# Univariate"
   ]
  },
  {
   "cell_type": "markdown",
   "id": "21195504",
   "metadata": {
    "papermill": {
     "duration": 0.045039,
     "end_time": "2022-01-22T11:49:35.209758",
     "exception": false,
     "start_time": "2022-01-22T11:49:35.164719",
     "status": "completed"
    },
    "tags": []
   },
   "source": [
    "## 1. Category"
   ]
  },
  {
   "cell_type": "code",
   "execution_count": 14,
   "id": "f96ae8d1",
   "metadata": {
    "execution": {
     "iopub.execute_input": "2022-01-22T11:49:35.305064Z",
     "iopub.status.busy": "2022-01-22T11:49:35.304260Z",
     "iopub.status.idle": "2022-01-22T11:49:35.308572Z",
     "shell.execute_reply": "2022-01-22T11:49:35.307873Z",
     "shell.execute_reply.started": "2022-01-22T10:12:37.356981Z"
    },
    "papermill": {
     "duration": 0.053583,
     "end_time": "2022-01-22T11:49:35.308729",
     "exception": false,
     "start_time": "2022-01-22T11:49:35.255146",
     "status": "completed"
    },
    "tags": []
   },
   "outputs": [
    {
     "data": {
      "text/plain": [
       "array(['Business', 'Personal'], dtype=object)"
      ]
     },
     "execution_count": 14,
     "metadata": {},
     "output_type": "execute_result"
    }
   ],
   "source": [
    "df['CATEGORY*'].unique()"
   ]
  },
  {
   "cell_type": "markdown",
   "id": "05bdcf15",
   "metadata": {
    "papermill": {
     "duration": 0.044838,
     "end_time": "2022-01-22T11:49:35.397716",
     "exception": false,
     "start_time": "2022-01-22T11:49:35.352878",
     "status": "completed"
    },
    "tags": []
   },
   "source": [
    "There are 2 ride-categories...  Business: For work related & Personal: For personal travel "
   ]
  },
  {
   "cell_type": "code",
   "execution_count": 15,
   "id": "d76ca8c9",
   "metadata": {
    "execution": {
     "iopub.execute_input": "2022-01-22T11:49:35.490437Z",
     "iopub.status.busy": "2022-01-22T11:49:35.489793Z",
     "iopub.status.idle": "2022-01-22T11:49:35.505271Z",
     "shell.execute_reply": "2022-01-22T11:49:35.505794Z",
     "shell.execute_reply.started": "2022-01-22T10:12:37.368485Z"
    },
    "papermill": {
     "duration": 0.063839,
     "end_time": "2022-01-22T11:49:35.506001",
     "exception": false,
     "start_time": "2022-01-22T11:49:35.442162",
     "status": "completed"
    },
    "tags": []
   },
   "outputs": [
    {
     "data": {
      "text/html": [
       "<div>\n",
       "<style scoped>\n",
       "    .dataframe tbody tr th:only-of-type {\n",
       "        vertical-align: middle;\n",
       "    }\n",
       "\n",
       "    .dataframe tbody tr th {\n",
       "        vertical-align: top;\n",
       "    }\n",
       "\n",
       "    .dataframe thead th {\n",
       "        text-align: right;\n",
       "    }\n",
       "</style>\n",
       "<table border=\"1\" class=\"dataframe\">\n",
       "  <thead>\n",
       "    <tr style=\"text-align: right;\">\n",
       "      <th></th>\n",
       "      <th>tot_miles</th>\n",
       "    </tr>\n",
       "    <tr>\n",
       "      <th>CATEGORY*</th>\n",
       "      <th></th>\n",
       "    </tr>\n",
       "  </thead>\n",
       "  <tbody>\n",
       "    <tr>\n",
       "      <th>Business</th>\n",
       "      <td>11477.1</td>\n",
       "    </tr>\n",
       "    <tr>\n",
       "      <th>Personal</th>\n",
       "      <td>717.7</td>\n",
       "    </tr>\n",
       "  </tbody>\n",
       "</table>\n",
       "</div>"
      ],
      "text/plain": [
       "           tot_miles\n",
       "CATEGORY*           \n",
       "Business     11477.1\n",
       "Personal       717.7"
      ]
     },
     "execution_count": 15,
     "metadata": {},
     "output_type": "execute_result"
    }
   ],
   "source": [
    "df[['CATEGORY*','MILES*']].groupby(['CATEGORY*']).agg(tot_miles=('MILES*','sum'))"
   ]
  },
  {
   "cell_type": "code",
   "execution_count": 16,
   "id": "f6da01cd",
   "metadata": {
    "execution": {
     "iopub.execute_input": "2022-01-22T11:49:35.601401Z",
     "iopub.status.busy": "2022-01-22T11:49:35.600430Z",
     "iopub.status.idle": "2022-01-22T11:49:35.869654Z",
     "shell.execute_reply": "2022-01-22T11:49:35.869052Z",
     "shell.execute_reply.started": "2022-01-22T10:12:37.398267Z"
    },
    "papermill": {
     "duration": 0.320052,
     "end_time": "2022-01-22T11:49:35.869791",
     "exception": false,
     "start_time": "2022-01-22T11:49:35.549739",
     "status": "completed"
    },
    "tags": []
   },
   "outputs": [
    {
     "data": {
      "text/plain": [
       "Text(0.5, 1.0, 'Total Miles per Category')"
      ]
     },
     "execution_count": 16,
     "metadata": {},
     "output_type": "execute_result"
    },
    {
     "data": {
      "text/plain": [
       "<Figure size 432x288 with 0 Axes>"
      ]
     },
     "metadata": {},
     "output_type": "display_data"
    },
    {
     "data": {
      "image/png": "[encoded data removed]",
      "text/plain": [
       "<Figure size 432x288 with 1 Axes>"
      ]
     },
     "metadata": {
      "needs_background": "light"
     },
     "output_type": "display_data"
    }
   ],
   "source": [
    "plt.figure()\n",
    "df[['CATEGORY*','MILES*']].groupby(['CATEGORY*']).agg(tot_miles=('MILES*','sum')).plot(kind='bar')\n",
    "plt.xlabel('Category')\n",
    "plt.ylabel('Total Miles')\n",
    "plt.title('Total Miles per Category')"
   ]
  },
  {
   "cell_type": "markdown",
   "id": "9a6802ea",
   "metadata": {
    "papermill": {
     "duration": 0.046074,
     "end_time": "2022-01-22T11:49:35.962854",
     "exception": false,
     "start_time": "2022-01-22T11:49:35.916780",
     "status": "completed"
    },
    "tags": []
   },
   "source": [
    "**User mainly uses Uber cabs for its Business purposes**<br>\n",
    "* Around 94% miles was consumed during Business trips.\n",
    "* Only 6% miles were consumed during personal trips."
   ]
  },
  {
   "cell_type": "markdown",
   "id": "4fb42772",
   "metadata": {
    "papermill": {
     "duration": 0.048951,
     "end_time": "2022-01-22T11:49:36.057947",
     "exception": false,
     "start_time": "2022-01-22T11:49:36.008996",
     "status": "completed"
    },
    "tags": []
   },
   "source": [
    "## START*"
   ]
  },
  {
   "cell_type": "code",
   "execution_count": 17,
   "id": "46b96ca8",
   "metadata": {
    "execution": {
     "iopub.execute_input": "2022-01-22T11:49:36.160249Z",
     "iopub.status.busy": "2022-01-22T11:49:36.159609Z",
     "iopub.status.idle": "2022-01-22T11:49:36.163259Z",
     "shell.execute_reply": "2022-01-22T11:49:36.163792Z",
     "shell.execute_reply.started": "2022-01-22T10:15:39.864291Z"
    },
    "papermill": {
     "duration": 0.057466,
     "end_time": "2022-01-22T11:49:36.163981",
     "exception": false,
     "start_time": "2022-01-22T11:49:36.106515",
     "status": "completed"
    },
    "tags": []
   },
   "outputs": [
    {
     "data": {
      "text/plain": [
       "177"
      ]
     },
     "execution_count": 17,
     "metadata": {},
     "output_type": "execute_result"
    }
   ],
   "source": [
    "len(df['START*'].unique())"
   ]
  },
  {
   "cell_type": "markdown",
   "id": "8d00b1c7",
   "metadata": {
    "papermill": {
     "duration": 0.045637,
     "end_time": "2022-01-22T11:49:36.258379",
     "exception": false,
     "start_time": "2022-01-22T11:49:36.212742",
     "status": "completed"
    },
    "tags": []
   },
   "source": [
    "**There are 177 unique starting points**"
   ]
  },
  {
   "cell_type": "code",
   "execution_count": 18,
   "id": "1a35fdaa",
   "metadata": {
    "execution": {
     "iopub.execute_input": "2022-01-22T11:49:36.353879Z",
     "iopub.status.busy": "2022-01-22T11:49:36.353290Z",
     "iopub.status.idle": "2022-01-22T11:49:36.360558Z",
     "shell.execute_reply": "2022-01-22T11:49:36.361108Z",
     "shell.execute_reply.started": "2022-01-22T10:12:37.685470Z"
    },
    "papermill": {
     "duration": 0.056928,
     "end_time": "2022-01-22T11:49:36.361274",
     "exception": false,
     "start_time": "2022-01-22T11:49:36.304346",
     "status": "completed"
    },
    "tags": []
   },
   "outputs": [
    {
     "data": {
      "text/plain": [
       "Cary                201\n",
       "Unknown Location    148\n",
       "Morrisville          85\n",
       "Whitebridge          68\n",
       "Islamabad            57\n",
       "Lahore               36\n",
       "Durham               36\n",
       "Raleigh              28\n",
       "Kar?chi              27\n",
       "Westpark Place       17\n",
       "Name: START*, dtype: int64"
      ]
     },
     "execution_count": 18,
     "metadata": {},
     "output_type": "execute_result"
    }
   ],
   "source": [
    "# Top 10 Start places\n",
    "df['START*'].value_counts(ascending=False)[:10]"
   ]
  },
  {
   "cell_type": "code",
   "execution_count": 19,
   "id": "26d6679c",
   "metadata": {
    "execution": {
     "iopub.execute_input": "2022-01-22T11:49:36.465809Z",
     "iopub.status.busy": "2022-01-22T11:49:36.465177Z",
     "iopub.status.idle": "2022-01-22T11:49:36.707131Z",
     "shell.execute_reply": "2022-01-22T11:49:36.707534Z",
     "shell.execute_reply.started": "2022-01-22T10:12:37.696814Z"
    },
    "papermill": {
     "duration": 0.297198,
     "end_time": "2022-01-22T11:49:36.707714",
     "exception": false,
     "start_time": "2022-01-22T11:49:36.410516",
     "status": "completed"
    },
    "tags": []
   },
   "outputs": [
    {
     "data": {
      "text/plain": [
       "<AxesSubplot:title={'center':'Top 10 Pickup places'}, ylabel='Pickup Count'>"
      ]
     },
     "execution_count": 19,
     "metadata": {},
     "output_type": "execute_result"
    },
    {
     "data": {
      "image/png": "[encoded data removed]",
      "text/plain": [
       "<Figure size 432x288 with 1 Axes>"
      ]
     },
     "metadata": {
      "needs_background": "light"
     },
     "output_type": "display_data"
    }
   ],
   "source": [
    "\n",
    "df['START*'].value_counts(ascending=False)[:10].plot(kind='barh',ylabel='Places',xlabel='Pickup Count',title='Top 10 Pickup places')"
   ]
  },
  {
   "cell_type": "markdown",
   "id": "71efea63",
   "metadata": {
    "papermill": {
     "duration": 0.048242,
     "end_time": "2022-01-22T11:49:36.803298",
     "exception": false,
     "start_time": "2022-01-22T11:49:36.755056",
     "status": "completed"
    },
    "tags": []
   },
   "source": [
    "**Cary is the most popular Starting point for this user**"
   ]
  },
  {
   "cell_type": "markdown",
   "id": "572f652b",
   "metadata": {
    "papermill": {
     "duration": 0.050432,
     "end_time": "2022-01-22T11:49:36.903913",
     "exception": false,
     "start_time": "2022-01-22T11:49:36.853481",
     "status": "completed"
    },
    "tags": []
   },
   "source": [
    "## STOP*"
   ]
  },
  {
   "cell_type": "code",
   "execution_count": 20,
   "id": "f0ff0fa3",
   "metadata": {
    "execution": {
     "iopub.execute_input": "2022-01-22T11:49:37.006905Z",
     "iopub.status.busy": "2022-01-22T11:49:37.006228Z",
     "iopub.status.idle": "2022-01-22T11:49:37.011144Z",
     "shell.execute_reply": "2022-01-22T11:49:37.011564Z",
     "shell.execute_reply.started": "2022-01-22T10:16:31.728863Z"
    },
    "papermill": {
     "duration": 0.057368,
     "end_time": "2022-01-22T11:49:37.011725",
     "exception": false,
     "start_time": "2022-01-22T11:49:36.954357",
     "status": "completed"
    },
    "tags": []
   },
   "outputs": [
    {
     "data": {
      "text/plain": [
       "188"
      ]
     },
     "execution_count": 20,
     "metadata": {},
     "output_type": "execute_result"
    }
   ],
   "source": [
    "len(df['STOP*'].unique())"
   ]
  },
  {
   "cell_type": "markdown",
   "id": "adaf3d76",
   "metadata": {
    "papermill": {
     "duration": 0.048402,
     "end_time": "2022-01-22T11:49:37.107382",
     "exception": false,
     "start_time": "2022-01-22T11:49:37.058980",
     "status": "completed"
    },
    "tags": []
   },
   "source": [
    "**There are 188 unique Drop points (destination)**"
   ]
  },
  {
   "cell_type": "code",
   "execution_count": 21,
   "id": "719274cc",
   "metadata": {
    "execution": {
     "iopub.execute_input": "2022-01-22T11:49:37.208003Z",
     "iopub.status.busy": "2022-01-22T11:49:37.207357Z",
     "iopub.status.idle": "2022-01-22T11:49:37.443771Z",
     "shell.execute_reply": "2022-01-22T11:49:37.444227Z",
     "shell.execute_reply.started": "2022-01-22T10:12:37.962993Z"
    },
    "papermill": {
     "duration": 0.287526,
     "end_time": "2022-01-22T11:49:37.444404",
     "exception": false,
     "start_time": "2022-01-22T11:49:37.156878",
     "status": "completed"
    },
    "tags": []
   },
   "outputs": [
    {
     "data": {
      "text/plain": [
       "<AxesSubplot:title={'center':'Top 10 Drop places'}, ylabel='Pickup Count'>"
      ]
     },
     "execution_count": 21,
     "metadata": {},
     "output_type": "execute_result"
    },
    {
     "data": {
      "image/png": "[encoded data removed]",
      "text/plain": [
       "<Figure size 432x288 with 1 Axes>"
      ]
     },
     "metadata": {
      "needs_background": "light"
     },
     "output_type": "display_data"
    }
   ],
   "source": [
    "\n",
    "df['STOP*'].value_counts(ascending=False)[:10].plot(kind='barh',ylabel='Places',xlabel='Pickup Count',title='Top 10 Drop places')"
   ]
  },
  {
   "cell_type": "markdown",
   "id": "c01664fe",
   "metadata": {
    "papermill": {
     "duration": 0.048769,
     "end_time": "2022-01-22T11:49:37.541705",
     "exception": false,
     "start_time": "2022-01-22T11:49:37.492936",
     "status": "completed"
    },
    "tags": []
   },
   "source": [
    "**Cary is the most popular Stop place for this user.**<br> \n",
    "***Maybe his home is in Cary (as mostly start & stop are from here)***"
   ]
  },
  {
   "cell_type": "code",
   "execution_count": 22,
   "id": "dcbe822e",
   "metadata": {
    "execution": {
     "iopub.execute_input": "2022-01-22T11:49:37.640501Z",
     "iopub.status.busy": "2022-01-22T11:49:37.639925Z",
     "iopub.status.idle": "2022-01-22T11:49:37.646909Z",
     "shell.execute_reply": "2022-01-22T11:49:37.647311Z",
     "shell.execute_reply.started": "2022-01-22T10:20:20.128098Z"
    },
    "papermill": {
     "duration": 0.058011,
     "end_time": "2022-01-22T11:49:37.647476",
     "exception": false,
     "start_time": "2022-01-22T11:49:37.589465",
     "status": "completed"
    },
    "tags": []
   },
   "outputs": [
    {
     "data": {
      "text/plain": [
       "Unknown Location    148\n",
       "Name: START*, dtype: int64"
      ]
     },
     "execution_count": 22,
     "metadata": {},
     "output_type": "execute_result"
    }
   ],
   "source": [
    "df[df['START*']=='Unknown Location']['START*'].value_counts()"
   ]
  },
  {
   "cell_type": "code",
   "execution_count": 23,
   "id": "ae0a0ce1",
   "metadata": {
    "execution": {
     "iopub.execute_input": "2022-01-22T11:49:37.754445Z",
     "iopub.status.busy": "2022-01-22T11:49:37.753783Z",
     "iopub.status.idle": "2022-01-22T11:49:37.756159Z",
     "shell.execute_reply": "2022-01-22T11:49:37.756598Z",
     "shell.execute_reply.started": "2022-01-22T10:19:42.870727Z"
    },
    "papermill": {
     "duration": 0.061121,
     "end_time": "2022-01-22T11:49:37.756759",
     "exception": false,
     "start_time": "2022-01-22T11:49:37.695638",
     "status": "completed"
    },
    "tags": []
   },
   "outputs": [
    {
     "data": {
      "text/plain": [
       "Unknown Location    149\n",
       "Name: STOP*, dtype: int64"
      ]
     },
     "execution_count": 23,
     "metadata": {},
     "output_type": "execute_result"
    }
   ],
   "source": [
    "df[df['STOP*']=='Unknown Location']['STOP*'].value_counts()"
   ]
  },
  {
   "cell_type": "markdown",
   "id": "3f15d1b6",
   "metadata": {
    "papermill": {
     "duration": 0.05019,
     "end_time": "2022-01-22T11:49:37.856680",
     "exception": false,
     "start_time": "2022-01-22T11:49:37.806490",
     "status": "completed"
    },
    "tags": []
   },
   "source": [
    "## MILES*"
   ]
  },
  {
   "cell_type": "code",
   "execution_count": 24,
   "id": "7fa406da",
   "metadata": {
    "execution": {
     "iopub.execute_input": "2022-01-22T11:49:37.971362Z",
     "iopub.status.busy": "2022-01-22T11:49:37.970753Z",
     "iopub.status.idle": "2022-01-22T11:49:38.611681Z",
     "shell.execute_reply": "2022-01-22T11:49:38.612146Z",
     "shell.execute_reply.started": "2022-01-22T10:12:38.247671Z"
    },
    "papermill": {
     "duration": 0.699616,
     "end_time": "2022-01-22T11:49:38.612311",
     "exception": false,
     "start_time": "2022-01-22T11:49:37.912695",
     "status": "completed"
    },
    "tags": []
   },
   "outputs": [
    {
     "data": {
      "text/plain": [
       "<AxesSubplot:xlabel='MILES*', ylabel='Count'>"
      ]
     },
     "execution_count": 24,
     "metadata": {},
     "output_type": "execute_result"
    },
    {
     "data": {
      "image/png": "[encoded data removed]",
      "text/plain": [
       "<Figure size 432x288 with 1 Axes>"
      ]
     },
     "metadata": {
      "needs_background": "light"
     },
     "output_type": "display_data"
    }
   ],
   "source": [
    "sns.histplot(df['MILES*'],kde=True)"
   ]
  },
  {
   "cell_type": "markdown",
   "id": "5e5b6243",
   "metadata": {
    "papermill": {
     "duration": 0.05248,
     "end_time": "2022-01-22T11:49:38.715079",
     "exception": false,
     "start_time": "2022-01-22T11:49:38.662599",
     "status": "completed"
    },
    "tags": []
   },
   "source": [
    "**Miles data is Rightly Skewed **"
   ]
  },
  {
   "cell_type": "code",
   "execution_count": 25,
   "id": "26ebb300",
   "metadata": {
    "execution": {
     "iopub.execute_input": "2022-01-22T11:49:38.819432Z",
     "iopub.status.busy": "2022-01-22T11:49:38.818726Z",
     "iopub.status.idle": "2022-01-22T11:49:38.835121Z",
     "shell.execute_reply": "2022-01-22T11:49:38.835601Z",
     "shell.execute_reply.started": "2022-01-22T10:12:44.473130Z"
    },
    "papermill": {
     "duration": 0.071332,
     "end_time": "2022-01-22T11:49:38.835772",
     "exception": false,
     "start_time": "2022-01-22T11:49:38.764440",
     "status": "completed"
    },
    "tags": []
   },
   "outputs": [
    {
     "data": {
      "text/html": [
       "<div>\n",
       "<style scoped>\n",
       "    .dataframe tbody tr th:only-of-type {\n",
       "        vertical-align: middle;\n",
       "    }\n",
       "\n",
       "    .dataframe tbody tr th {\n",
       "        vertical-align: top;\n",
       "    }\n",
       "\n",
       "    .dataframe thead th {\n",
       "        text-align: right;\n",
       "    }\n",
       "</style>\n",
       "<table border=\"1\" class=\"dataframe\">\n",
       "  <thead>\n",
       "    <tr style=\"text-align: right;\">\n",
       "      <th></th>\n",
       "      <th>count</th>\n",
       "      <th>mean</th>\n",
       "      <th>std</th>\n",
       "      <th>min</th>\n",
       "      <th>25%</th>\n",
       "      <th>50%</th>\n",
       "      <th>75%</th>\n",
       "      <th>max</th>\n",
       "    </tr>\n",
       "  </thead>\n",
       "  <tbody>\n",
       "    <tr>\n",
       "      <th>MILES*</th>\n",
       "      <td>1154.0</td>\n",
       "      <td>10.567418</td>\n",
       "      <td>21.588452</td>\n",
       "      <td>0.5</td>\n",
       "      <td>2.9</td>\n",
       "      <td>6.0</td>\n",
       "      <td>10.4</td>\n",
       "      <td>310.3</td>\n",
       "    </tr>\n",
       "  </tbody>\n",
       "</table>\n",
       "</div>"
      ],
      "text/plain": [
       "         count       mean        std  min  25%  50%   75%    max\n",
       "MILES*  1154.0  10.567418  21.588452  0.5  2.9  6.0  10.4  310.3"
      ]
     },
     "execution_count": 25,
     "metadata": {},
     "output_type": "execute_result"
    }
   ],
   "source": [
    "df.describe().T"
   ]
  },
  {
   "cell_type": "markdown",
   "id": "604c94bf",
   "metadata": {
    "papermill": {
     "duration": 0.049987,
     "end_time": "2022-01-22T11:49:38.935587",
     "exception": false,
     "start_time": "2022-01-22T11:49:38.885600",
     "status": "completed"
    },
    "tags": []
   },
   "source": [
    "## Multivariate analysis"
   ]
  },
  {
   "cell_type": "code",
   "execution_count": 26,
   "id": "60d39bda",
   "metadata": {
    "execution": {
     "iopub.execute_input": "2022-01-22T11:49:39.039979Z",
     "iopub.status.busy": "2022-01-22T11:49:39.039099Z",
     "iopub.status.idle": "2022-01-22T11:49:39.050745Z",
     "shell.execute_reply": "2022-01-22T11:49:39.051246Z",
     "shell.execute_reply.started": "2022-01-22T10:13:57.071161Z"
    },
    "papermill": {
     "duration": 0.065682,
     "end_time": "2022-01-22T11:49:39.051408",
     "exception": false,
     "start_time": "2022-01-22T11:49:38.985726",
     "status": "completed"
    },
    "tags": []
   },
   "outputs": [
    {
     "data": {
      "text/html": [
       "<div>\n",
       "<style scoped>\n",
       "    .dataframe tbody tr th:only-of-type {\n",
       "        vertical-align: middle;\n",
       "    }\n",
       "\n",
       "    .dataframe tbody tr th {\n",
       "        vertical-align: top;\n",
       "    }\n",
       "\n",
       "    .dataframe thead th {\n",
       "        text-align: right;\n",
       "    }\n",
       "</style>\n",
       "<table border=\"1\" class=\"dataframe\">\n",
       "  <thead>\n",
       "    <tr style=\"text-align: right;\">\n",
       "      <th></th>\n",
       "      <th>START_DATE*</th>\n",
       "      <th>END_DATE*</th>\n",
       "      <th>CATEGORY*</th>\n",
       "      <th>START*</th>\n",
       "      <th>STOP*</th>\n",
       "      <th>MILES*</th>\n",
       "    </tr>\n",
       "  </thead>\n",
       "  <tbody>\n",
       "    <tr>\n",
       "      <th>0</th>\n",
       "      <td>2016-01-01 21:11:00</td>\n",
       "      <td>2016-01-01 21:17:00</td>\n",
       "      <td>Business</td>\n",
       "      <td>Fort Pierce</td>\n",
       "      <td>Fort Pierce</td>\n",
       "      <td>5.1</td>\n",
       "    </tr>\n",
       "    <tr>\n",
       "      <th>1</th>\n",
       "      <td>2016-01-02 01:25:00</td>\n",
       "      <td>2016-01-02 01:37:00</td>\n",
       "      <td>Business</td>\n",
       "      <td>Fort Pierce</td>\n",
       "      <td>Fort Pierce</td>\n",
       "      <td>5.0</td>\n",
       "    </tr>\n",
       "    <tr>\n",
       "      <th>2</th>\n",
       "      <td>2016-01-02 20:25:00</td>\n",
       "      <td>2016-01-02 20:38:00</td>\n",
       "      <td>Business</td>\n",
       "      <td>Fort Pierce</td>\n",
       "      <td>Fort Pierce</td>\n",
       "      <td>4.8</td>\n",
       "    </tr>\n",
       "    <tr>\n",
       "      <th>3</th>\n",
       "      <td>2016-01-05 17:31:00</td>\n",
       "      <td>2016-01-05 17:45:00</td>\n",
       "      <td>Business</td>\n",
       "      <td>Fort Pierce</td>\n",
       "      <td>Fort Pierce</td>\n",
       "      <td>4.7</td>\n",
       "    </tr>\n",
       "    <tr>\n",
       "      <th>4</th>\n",
       "      <td>2016-01-06 14:42:00</td>\n",
       "      <td>2016-01-06 15:49:00</td>\n",
       "      <td>Business</td>\n",
       "      <td>Fort Pierce</td>\n",
       "      <td>West Palm Beach</td>\n",
       "      <td>63.7</td>\n",
       "    </tr>\n",
       "  </tbody>\n",
       "</table>\n",
       "</div>"
      ],
      "text/plain": [
       "          START_DATE*           END_DATE* CATEGORY*       START*  \\\n",
       "0 2016-01-01 21:11:00 2016-01-01 21:17:00  Business  Fort Pierce   \n",
       "1 2016-01-02 01:25:00 2016-01-02 01:37:00  Business  Fort Pierce   \n",
       "2 2016-01-02 20:25:00 2016-01-02 20:38:00  Business  Fort Pierce   \n",
       "3 2016-01-05 17:31:00 2016-01-05 17:45:00  Business  Fort Pierce   \n",
       "4 2016-01-06 14:42:00 2016-01-06 15:49:00  Business  Fort Pierce   \n",
       "\n",
       "             STOP*  MILES*  \n",
       "0      Fort Pierce     5.1  \n",
       "1      Fort Pierce     5.0  \n",
       "2      Fort Pierce     4.8  \n",
       "3      Fort Pierce     4.7  \n",
       "4  West Palm Beach    63.7  "
      ]
     },
     "execution_count": 26,
     "metadata": {},
     "output_type": "execute_result"
    }
   ],
   "source": [
    "df.head()"
   ]
  },
  {
   "cell_type": "code",
   "execution_count": 27,
   "id": "cfcbc958",
   "metadata": {
    "_kg_hide-output": true,
    "execution": {
     "iopub.execute_input": "2022-01-22T11:49:39.159557Z",
     "iopub.status.busy": "2022-01-22T11:49:39.158242Z",
     "iopub.status.idle": "2022-01-22T11:49:39.445438Z",
     "shell.execute_reply": "2022-01-22T11:49:39.444972Z",
     "shell.execute_reply.started": "2022-01-22T10:24:05.721800Z"
    },
    "papermill": {
     "duration": 0.342374,
     "end_time": "2022-01-22T11:49:39.445577",
     "exception": false,
     "start_time": "2022-01-22T11:49:39.103203",
     "status": "completed"
    },
    "scrolled": true,
    "tags": []
   },
   "outputs": [
    {
     "name": "stdout",
     "output_type": "stream",
     "text": [
      "910    2.2\n",
      "Name: (Agnew, Agnew), dtype: float64\n",
      "906    4.3\n",
      "Name: (Agnew, Cory), dtype: float64\n",
      "908    2.2\n",
      "911    2.4\n",
      "Name: (Agnew, Renaissance), dtype: float64\n",
      "879    15.2\n",
      "Name: (Almond, Bryson City), dtype: float64\n",
      "646    1.0\n",
      "825    3.3\n",
      "Name: (Apex, Apex), dtype: float64\n",
      "58      5.5\n",
      "60      5.7\n",
      "80      5.7\n",
      "173     5.6\n",
      "410     7.2\n",
      "565     5.5\n",
      "616     4.6\n",
      "647     6.0\n",
      "826     5.3\n",
      "978     5.4\n",
      "1014    5.3\n",
      "1033    8.8\n",
      "1045    4.7\n",
      "Name: (Apex, Cary), dtype: float64\n",
      "855    2.2\n",
      "Name: (Apex, Eagle Rock), dtype: float64\n",
      "1001    9.0\n",
      "Name: (Apex, Holly Springs), dtype: float64\n",
      "469    17.0\n",
      "Name: (Arabi, Metairie), dtype: float64\n",
      "621    4.9\n",
      "Name: (Arlington, Washington), dtype: float64\n",
      "613    1.3\n",
      "Name: (Arlington Park at Amberly, Lexington Park at Amberly), dtype: float64\n",
      "881    195.9\n",
      "Name: (Asheville, Mebane), dtype: float64\n",
      "871    91.8\n",
      "Name: (Asheville, Topton), dtype: float64\n",
      "232    136.0\n",
      "Name: (Austin, Katy), dtype: float64\n",
      "547     8.3\n",
      "548     3.2\n",
      "551     4.5\n",
      "556    13.0\n",
      "557     4.4\n",
      "Name: (Banner Elk, Banner Elk), dtype: float64\n",
      "558    15.1\n",
      "Name: (Banner Elk, Boone), dtype: float64\n",
      "549    22.4\n",
      "Name: (Banner Elk, Elk Park), dtype: float64\n",
      "552    28.1\n",
      "Name: (Banner Elk, Newland), dtype: float64\n",
      "357    12.9\n",
      "Name: (Bellevue, Seattle), dtype: float64\n",
      "967    2.3\n",
      "Name: (Berkeley, El Cerrito), dtype: float64\n",
      "832    3.0\n",
      "839    4.6\n",
      "920    3.6\n",
      "948    1.3\n",
      "962    2.5\n",
      "Name: (Berkeley, Emeryville), dtype: float64\n",
      "936    45.9\n",
      "Name: (Berkeley, Menlo Park), dtype: float64\n",
      "960    44.6\n",
      "Name: (Berkeley, Mountain View), dtype: float64\n",
      "437     5.1\n",
      "964     5.1\n",
      "969    16.3\n",
      "Name: (Berkeley, Oakland), dtype: float64\n",
      "916    11.8\n",
      "918    12.2\n",
      "922    11.4\n",
      "930    12.6\n",
      "Name: (Berkeley, San Francisco), dtype: float64\n",
      "841    47.7\n",
      "Name: (Berkeley, San Jose), dtype: float64\n",
      "555    23.8\n",
      "Name: (Boone, Banner Elk), dtype: float64\n",
      "559    180.2\n",
      "Name: (Boone, Cary), dtype: float64\n",
      "256    9.6\n",
      "Name: (Briar Meadow, Midtown), dtype: float64\n",
      "878    6.6\n",
      "Name: (Bryson City, Almond), dtype: float64\n",
      "880    68.4\n",
      "Name: (Bryson City, Asheville), dtype: float64\n",
      "875    16.3\n",
      "876     6.5\n",
      "877     6.3\n",
      "Name: (Bryson City, Bryson City), dtype: float64\n",
      "333    4.8\n",
      "Name: (Burtrose, Whitebridge), dtype: float64\n",
      "466    4.5\n",
      "Name: (CBD, Bywater), dtype: float64\n",
      "444    1.9\n",
      "Name: (CBD, Lower Garden District), dtype: float64\n",
      "527    7.7\n",
      "Name: (CBD, Pontchartrain Beach), dtype: float64\n",
      "534    1.3\n",
      "Name: (CBD, St Thomas), dtype: float64\n",
      "358    14.4\n",
      "Name: (Capitol One, Mcvan), dtype: float64\n",
      "353    4.5\n",
      "Name: (Capitol One, University District), dtype: float64\n",
      "57       5.8\n",
      "59       5.7\n",
      "79       5.6\n",
      "172      3.8\n",
      "409      5.7\n",
      "564      7.2\n",
      "615      6.9\n",
      "824      5.6\n",
      "854     11.2\n",
      "977      5.4\n",
      "1000     5.1\n",
      "1013     5.1\n",
      "1032     5.1\n",
      "1044     4.4\n",
      "Name: (Cary, Apex), dtype: float64\n",
      "7        0.8\n",
      "30       4.8\n",
      "37       1.6\n",
      "38       2.4\n",
      "39       1.0\n",
      "43       1.4\n",
      "44       0.5\n",
      "45       1.8\n",
      "53       4.6\n",
      "54       5.2\n",
      "65       6.0\n",
      "66       1.6\n",
      "69       1.6\n",
      "70       1.1\n",
      "71       1.6\n",
      "73       7.7\n",
      "975      1.5\n",
      "976      1.8\n",
      "979     39.2\n",
      "980      6.4\n",
      "981      2.7\n",
      "982     18.5\n",
      "983      2.5\n",
      "984      2.1\n",
      "988      5.5\n",
      "989      4.1\n",
      "990     12.7\n",
      "993      5.9\n",
      "994      1.9\n",
      "995      3.3\n",
      "996      1.3\n",
      "999      1.4\n",
      "1003     2.5\n",
      "1009     5.5\n",
      "1010     5.5\n",
      "1022     4.1\n",
      "1023     3.8\n",
      "1024     6.6\n",
      "1025     4.0\n",
      "1026     7.0\n",
      "1027     6.9\n",
      "1028     3.4\n",
      "1029     3.4\n",
      "1030     2.0\n",
      "1031     2.0\n",
      "1034     5.6\n",
      "1035    18.9\n",
      "1042     2.1\n",
      "1043     3.1\n",
      "1048     4.2\n",
      "1049     4.1\n",
      "1050     3.4\n",
      "1051     3.3\n",
      "Name: (Cary, Cary), dtype: float64\n",
      "61    19.4\n",
      "Name: (Cary, Chapel Hill), dtype: float64\n",
      "28     10.4\n",
      "55     10.4\n",
      "74     10.4\n",
      "95      8.5\n",
      "164    10.6\n",
      "183     9.9\n",
      "185    10.4\n",
      "304    10.5\n",
      "325    10.4\n",
      "337     9.9\n",
      "339    14.2\n",
      "394    10.4\n",
      "405     9.9\n",
      "411    10.4\n",
      "413    10.4\n",
      "424    10.4\n",
      "429    10.4\n",
      "490    10.4\n",
      "497    10.4\n",
      "499     9.9\n",
      "503    10.5\n",
      "505    10.1\n",
      "509     9.9\n",
      "513    11.8\n",
      "517     9.9\n",
      "520     9.9\n",
      "584     8.0\n",
      "593    10.4\n",
      "609    14.0\n",
      "644    12.9\n",
      "816    10.5\n",
      "851    16.4\n",
      "867    10.4\n",
      "887    16.5\n",
      "973    10.3\n",
      "997    10.3\n",
      "Name: (Cary, Durham), dtype: float64\n",
      "1036    15.6\n",
      "Name: (Cary, Fuquay-Varina), dtype: float64\n",
      "314    15.3\n",
      "Name: (Cary, Holly Springs), dtype: float64\n",
      "268    144.0\n",
      "Name: (Cary, Latta), dtype: float64\n",
      "8        8.3\n",
      "67       5.2\n",
      "81       6.1\n",
      "89       6.1\n",
      "99       8.4\n",
      "        ... \n",
      "1038     3.0\n",
      "1040     3.0\n",
      "1046     3.0\n",
      "1052     3.0\n",
      "1054    10.6\n",
      "Name: (Cary, Morrisville), Length: 67, dtype: float64\n",
      "34      17.1\n",
      "46      18.7\n",
      "50      19.0\n",
      "76      11.4\n",
      "91      17.3\n",
      "181      7.6\n",
      "187     15.7\n",
      "200     12.4\n",
      "307     19.1\n",
      "310      8.9\n",
      "316     11.9\n",
      "323     13.6\n",
      "334     12.4\n",
      "389     14.9\n",
      "455      6.0\n",
      "457     19.3\n",
      "461      8.6\n",
      "501     13.3\n",
      "642     14.9\n",
      "822     20.6\n",
      "845     17.2\n",
      "847     28.1\n",
      "1006     8.5\n",
      "Name: (Cary, Raleigh), dtype: float64\n",
      "985    6.7\n",
      "Name: (Cary, Unknown Location), dtype: float64\n",
      "1017    6.6\n",
      "Name: (Cary, Wake Co.), dtype: float64\n",
      "651    31.7\n",
      "Name: (Cary, Wake Forest), dtype: float64\n",
      "869    107.0\n",
      "Name: (Cary, Winston Salem), dtype: float64\n",
      "929    1.1\n",
      "950    2.3\n",
      "951    2.6\n",
      "Name: (Central, Central), dtype: float64\n",
      "940    2.9\n",
      "Name: (Central, College Avenue), dtype: float64\n",
      "942    2.3\n",
      "Name: (Central, South), dtype: float64\n",
      "952    1.9\n",
      "958    1.9\n",
      "Name: (Central, Southside), dtype: float64\n",
      "945    0.6\n",
      "Name: (Central, West Berkeley), dtype: float64\n",
      "468    1.1\n",
      "Name: (Chalmette, Arabi), dtype: float64\n",
      "62    23.3\n",
      "Name: (Chapel Hill, Cary), dtype: float64\n",
      "359    17.0\n",
      "Name: (Chapel Hill, Morrisville), dtype: float64\n",
      "330    1.9\n",
      "Name: (Chessington, Chessington), dtype: float64\n",
      "573    4.8\n",
      "Name: (Chessington, Whitebridge), dtype: float64\n",
      "941    2.6\n",
      "Name: (College Avenue, Central), dtype: float64\n",
      "110    2.6\n",
      "111    4.5\n",
      "112    1.7\n",
      "113    1.8\n",
      "114    6.0\n",
      "118    1.7\n",
      "Name: (Colombo, Colombo), dtype: float64\n",
      "119    21.4\n",
      "Name: (Colombo, Katunayaka), dtype: float64\n",
      "115    1.1\n",
      "Name: (Colombo, Nugegoda), dtype: float64\n",
      "629    1.5\n",
      "Name: (Columbia Heights, Kalorama Triangle), dtype: float64\n",
      "212    0.8\n",
      "Name: (Congress Ave District, Downtown), dtype: float64\n",
      "627    1.3\n",
      "Name: (Connecticut Avenue, Kalorama Triangle), dtype: float64\n",
      "229    2.0\n",
      "Name: (Convention Center District, West University), dtype: float64\n",
      "907    3.9\n",
      "Name: (Cory, Agnew), dtype: float64\n",
      "271    6.7\n",
      "Name: (Couples Glen, Isles of Buena Vista), dtype: float64\n",
      "280    27.2\n",
      "Name: (Couples Glen, Vista East), dtype: float64\n",
      "479    2.5\n",
      "480    8.6\n",
      "481    5.2\n",
      "482    7.6\n",
      "483    1.8\n",
      "Name: (Covington, Covington), dtype: float64\n",
      "484    4.7\n",
      "Name: (Covington, Mandeville), dtype: float64\n",
      "223    12.5\n",
      "Name: (Coxville, The Drag), dtype: float64\n",
      "296    80.5\n",
      "Name: (Daytona Beach, Jacksonville), dtype: float64\n",
      "442    9.3\n",
      "Name: (Downtown, Bay Farm Island), dtype: float64\n",
      "944    1.4\n",
      "Name: (Downtown, Central), dtype: float64\n",
      "23    11.2\n",
      "Name: (Downtown, Gulfton), dtype: float64\n",
      "258    0.9\n",
      "Name: (Downtown, Midtown), dtype: float64\n",
      "213    1.2\n",
      "Name: (Downtown, Red River District), dtype: float64\n",
      "924    6.2\n",
      "Name: (Downtown, Sunnyside), dtype: float64\n",
      "227    2.8\n",
      "231    1.7\n",
      "Name: (Downtown, The Drag), dtype: float64\n",
      "914    1.8\n",
      "Name: (Downtown, West Berkeley), dtype: float64\n",
      "645    15.3\n",
      "Name: (Durham, Apex), dtype: float64\n",
      "29     10.4\n",
      "56     10.1\n",
      "75     10.4\n",
      "165     9.9\n",
      "184     9.9\n",
      "186    10.9\n",
      "305     8.7\n",
      "326    10.0\n",
      "338    10.0\n",
      "340    18.2\n",
      "395     9.9\n",
      "406     9.9\n",
      "412     9.9\n",
      "414     9.9\n",
      "425     9.9\n",
      "430     9.9\n",
      "491     9.9\n",
      "498     9.9\n",
      "500     9.9\n",
      "504     9.9\n",
      "506     9.9\n",
      "510     9.9\n",
      "515     9.9\n",
      "521     9.9\n",
      "585     9.9\n",
      "594     9.9\n",
      "610    13.3\n",
      "868     9.9\n",
      "888    12.8\n",
      "974    10.5\n",
      "998    11.1\n",
      "Name: (Durham, Cary), dtype: float64\n",
      "96      2.6\n",
      "518     8.6\n",
      "817     8.1\n",
      "852    15.4\n",
      "Name: (Durham, Morrisville), dtype: float64\n",
      "26    3.9\n",
      "Name: (Eagan Park, Jamestown Court), dtype: float64\n",
      "856    3.6\n",
      "Name: (Eagle Rock, Cary), dtype: float64\n",
      "208    12.8\n",
      "Name: (East Austin, West University), dtype: float64\n",
      "102    2.7\n",
      "Name: (East Elmhurst, Jackson Heights), dtype: float64\n",
      "104    8.1\n",
      "Name: (East Elmhurst, New York), dtype: float64\n",
      "13    6.4\n",
      "Name: (East Harlem, NoMad), dtype: float64\n",
      "92    5.7\n",
      "Name: (Eastgate, Walnut Terrace), dtype: float64\n",
      "578    2.3\n",
      "Name: (Edgehill Farms, Burtrose), dtype: float64\n",
      "575    1.4\n",
      "Name: (Edgehill Farms, Preston), dtype: float64\n",
      "78     3.2\n",
      "84     2.7\n",
      "633    2.7\n",
      "638    2.7\n",
      "650    2.8\n",
      "828    3.3\n",
      "Name: (Edgehill Farms, Whitebridge), dtype: float64\n",
      "968    3.1\n",
      "Name: (El Cerrito, Berkeley), dtype: float64\n",
      "550    12.2\n",
      "Name: (Elk Park, Banner Elk), dtype: float64\n",
      "11    7.5\n",
      "Name: (Elmhurst, New York), dtype: float64\n",
      "436    3.9\n",
      "831    3.0\n",
      "840    3.1\n",
      "921    3.0\n",
      "949    3.7\n",
      "963    3.7\n",
      "Name: (Emeryville, Berkeley), dtype: float64\n",
      "441     5.1\n",
      "833     3.8\n",
      "843    13.2\n",
      "Name: (Emeryville, Oakland), dtype: float64\n",
      "439    9.8\n",
      "Name: (Emeryville, San Francisco), dtype: float64\n",
      "47    3.4\n",
      "Name: (Fairmont, Meredith Townes), dtype: float64\n",
      "637    4.0\n",
      "Name: (Farmington Woods, Edgehill Farms), dtype: float64\n",
      "31    4.7\n",
      "Name: (Farmington Woods, Whitebridge), dtype: float64\n",
      "189    0.8\n",
      "Name: (Fayetteville Street, Depot Historic District), dtype: float64\n",
      "201    5.9\n",
      "Name: (Fayetteville Street, Meredith Townes), dtype: float64\n",
      "35    15.1\n",
      "Name: (Fayetteville Street, Umstead), dtype: float64\n",
      "422    4.8\n",
      "Name: (Financial District, Kips Bay), dtype: float64\n",
      "14    1.6\n",
      "Name: (Flatiron District, Midtown), dtype: float64\n",
      "299    159.3\n",
      "Name: (Florence, Cary), dtype: float64\n",
      "0    5.1\n",
      "1    5.0\n",
      "2    4.8\n",
      "3    4.7\n",
      "Name: (Fort Pierce, Fort Pierce), dtype: float64\n",
      "4    63.7\n",
      "Name: (Fort Pierce, West Palm Beach), dtype: float64\n",
      "1037    15.6\n",
      "Name: (Fuquay-Varina, Cary), dtype: float64\n",
      "251    57.0\n",
      "Name: (Galveston, Houston), dtype: float64\n",
      "247    3.1\n",
      "Name: (Galveston, Port Bolivar), dtype: float64\n",
      "1154    48.2\n",
      "Name: (Gampaha, Ilukwatta), dtype: float64\n",
      "220    6.2\n",
      "Name: (Georgian Acres, The Drag), dtype: float64\n",
      "24    11.8\n",
      "Name: (Gulfton, Downtown), dtype: float64\n",
      "873    75.7\n",
      "Name: (Hayesville, Topton), dtype: float64\n",
      "583    9.1\n",
      "Name: (Hazelwood, Lexington Park at Amberly), dtype: float64\n",
      "567    0.9\n",
      "Name: (Hazelwood, Weston), dtype: float64\n",
      "41     2.3\n",
      "168    2.0\n",
      "175    6.6\n",
      "408    2.4\n",
      "899    2.4\n",
      "Name: (Hazelwood, Whitebridge), dtype: float64\n",
      "21    2.0\n",
      "Name: (Hell's Kitchen, Midtown), dtype: float64\n",
      "649    4.4\n",
      "Name: (Heritage Pines, Edgehill Farms), dtype: float64\n",
      "159    3.2\n",
      "Name: (Heritage Pines, Whitebridge), dtype: float64\n",
      "315     13.7\n",
      "1002    13.3\n",
      "Name: (Holly Springs, Cary), dtype: float64\n",
      "246    36.5\n",
      "Name: (Houston, Galveston), dtype: float64\n",
      "25     21.9\n",
      "235     4.9\n",
      "236    12.6\n",
      "Name: (Houston, Houston), dtype: float64\n",
      "244    12.0\n",
      "Name: (Houston, Sugar Land), dtype: float64\n",
      "20    2.4\n",
      "Name: (Hudson Square, Hell's Kitchen), dtype: float64\n",
      "18    4.0\n",
      "Name: (Hudson Square, Lower Manhattan), dtype: float64\n",
      "864    12.1\n",
      "Name: (Huntington Woods, Huntington Woods), dtype: float64\n",
      "399    1.7\n",
      "865    3.9\n",
      "Name: (Huntington Woods, Weston), dtype: float64\n",
      "926    5.5\n",
      "Name: (Ingleside, Potrero Flats), dtype: float64\n",
      "129      1.5\n",
      "130      1.0\n",
      "133      4.2\n",
      "137      3.0\n",
      "138      1.5\n",
      "146      4.6\n",
      "664      1.2\n",
      "681      3.2\n",
      "686      1.4\n",
      "691      1.5\n",
      "730      5.3\n",
      "733      4.3\n",
      "734      2.5\n",
      "739      2.6\n",
      "742      4.4\n",
      "779     37.7\n",
      "782      2.8\n",
      "783      1.6\n",
      "801      1.7\n",
      "806      1.0\n",
      "807      0.7\n",
      "808      2.3\n",
      "1076     1.8\n",
      "1077     1.4\n",
      "1085     2.1\n",
      "Name: (Islamabad, Islamabad), dtype: float64\n",
      "151    8.1\n",
      "Name: (Islamabad, Noorpur Shahan), dtype: float64\n",
      "139    18.4\n",
      "678     6.5\n",
      "Name: (Islamabad, R?walpindi), dtype: float64\n",
      "1061    5.9\n",
      "Name: (Islamabad, Rawalpindi), dtype: float64\n",
      "123      6.0\n",
      "125     10.0\n",
      "131      7.3\n",
      "134     13.6\n",
      "147      8.8\n",
      "665      5.7\n",
      "671      7.3\n",
      "682     12.5\n",
      "687     20.2\n",
      "689      6.3\n",
      "692     10.9\n",
      "702      5.0\n",
      "731     12.1\n",
      "735      5.7\n",
      "737      4.0\n",
      "743      5.3\n",
      "746     10.6\n",
      "765      5.7\n",
      "768     16.5\n",
      "777     20.5\n",
      "780     16.7\n",
      "784     12.7\n",
      "802      9.5\n",
      "809     10.9\n",
      "1069     2.2\n",
      "1078    10.3\n",
      "1081     3.5\n",
      "1086     7.2\n",
      "Name: (Islamabad, Unknown Location), dtype: float64\n",
      "103    1.8\n",
      "Name: (Jackson Heights, East Elmhurst), dtype: float64\n",
      "270    201.0\n",
      "Name: (Jacksonville, Kissimmee), dtype: float64\n",
      "297    174.2\n",
      "Name: (Jacksonville, Ridgeland), dtype: float64\n",
      "9      16.5\n",
      "416    22.3\n",
      "Name: (Jamaica, New York), dtype: float64\n",
      "488    1.0\n",
      "Name: (Jamestown Court, Jamestown Court), dtype: float64\n",
      "623    1.0\n",
      "625    1.1\n",
      "Name: (K Street, Kalorama Triangle), dtype: float64\n",
      "628    1.8\n",
      "Name: (Kalorama Triangle, Columbia Heights), dtype: float64\n",
      "626    1.5\n",
      "Name: (Kalorama Triangle, Downtown), dtype: float64\n",
      "622    1.0\n",
      "Name: (Kalorama Triangle, K Street), dtype: float64\n",
      "1119    4.9\n",
      "1120    5.0\n",
      "1121    0.6\n",
      "1124    5.5\n",
      "1127    2.0\n",
      "1130    3.8\n",
      "1131    5.1\n",
      "1132    3.8\n",
      "1135    1.4\n",
      "1136    1.1\n",
      "1137    4.1\n",
      "1138    6.1\n",
      "1139    1.3\n",
      "1142    7.2\n",
      "1145    2.8\n",
      "1146    2.9\n",
      "1147    4.6\n",
      "1148    4.6\n",
      "1149    0.8\n",
      "1150    0.7\n",
      "Name: (Kar?chi, Kar?chi), dtype: float64\n",
      "1122     3.1\n",
      "1125    10.3\n",
      "1128     8.5\n",
      "1133    11.6\n",
      "1140     3.0\n",
      "1143     6.4\n",
      "1151     3.9\n",
      "Name: (Kar?chi, Unknown Location), dtype: float64\n",
      "770    2.9\n",
      "798    3.6\n",
      "Name: (Karachi, Karachi), dtype: float64\n",
      "771    8.2\n",
      "799    8.0\n",
      "Name: (Karachi, Unknown Location), dtype: float64\n",
      "120    0.5\n",
      "Name: (Katunayaka, Katunayaka), dtype: float64\n",
      "108    43.7\n",
      "Name: (Katunayaka, Unknown Location), dtype: float64\n",
      "1153    6.4\n",
      "Name: (Katunayake, Gampaha), dtype: float64\n",
      "233    30.2\n",
      "Name: (Katy, Houston), dtype: float64\n",
      "476    2.2\n",
      "539    1.4\n",
      "Name: (Kenner, Kenner), dtype: float64\n",
      "532    4.9\n",
      "Name: (Kenner, Metairie), dtype: float64\n",
      "443    12.4\n",
      "450    15.0\n",
      "452    13.6\n",
      "465    12.8\n",
      "477    13.0\n",
      "526    12.8\n",
      "530    13.2\n",
      "537    13.4\n",
      "Name: (Kenner, New Orleans), dtype: float64\n",
      "385    1.7\n",
      "Name: (Kilarney Woods, Kildaire Farms), dtype: float64\n",
      "386    4.7\n",
      "Name: (Kilarney Woods, Whitebridge), dtype: float64\n",
      "295    77.3\n",
      "Name: (Kissimmee, Daytona Beach), dtype: float64\n",
      "289    11.0\n",
      "292     0.7\n",
      "293     5.5\n",
      "294     5.1\n",
      "Name: (Kissimmee, Kissimmee), dtype: float64\n",
      "272     8.8\n",
      "276     6.1\n",
      "279     3.6\n",
      "282    13.6\n",
      "287    16.1\n",
      "290    15.5\n",
      "Name: (Kissimmee, Orlando), dtype: float64\n",
      "972    6.1\n",
      "Name: (Krendle Woods, Whitebridge), dtype: float64\n",
      "716     7.4\n",
      "717     1.5\n",
      "720     3.4\n",
      "721     3.8\n",
      "724     7.0\n",
      "725     0.9\n",
      "774     9.8\n",
      "792     2.6\n",
      "795     2.4\n",
      "796     3.1\n",
      "797     6.1\n",
      "1096    2.1\n",
      "1097    2.1\n",
      "1098    3.0\n",
      "1105    5.3\n",
      "1106    1.6\n",
      "1107    3.6\n",
      "1108    1.7\n",
      "1109    2.9\n",
      "1110    0.6\n",
      "1111    0.6\n",
      "1112    2.3\n",
      "1113    2.3\n",
      "1114    3.2\n",
      "1115    6.2\n",
      "1116    7.7\n",
      "1117    3.8\n",
      "Name: (Lahore, Lahore), dtype: float64\n",
      "712      7.3\n",
      "718      7.9\n",
      "722      5.9\n",
      "726     86.6\n",
      "775      7.3\n",
      "793      5.8\n",
      "1099     6.2\n",
      "1103     6.3\n",
      "1118     7.9\n",
      "Name: (Lahore, Unknown Location), dtype: float64\n",
      "273    1.2\n",
      "274    2.1\n",
      "Name: (Lake Reams, Lake Reams), dtype: float64\n",
      "33    7.6\n",
      "Name: (Lake Wellingborough, Whitebridge), dtype: float64\n",
      "446    5.5\n",
      "Name: (Lakeview, Storyville), dtype: float64\n",
      "269    310.3\n",
      "Name: (Latta, Jacksonville), dtype: float64\n",
      "614    1.9\n",
      "Name: (Lexington Park at Amberly, Westpark Place), dtype: float64\n",
      "571    8.7\n",
      "Name: (Lexington Park at Amberly, Whitebridge), dtype: float64\n",
      "107    13.9\n",
      "Name: (Long Island City, Jamaica), dtype: float64\n",
      "445    6.4\n",
      "Name: (Lower Garden District, Lakeview), dtype: float64\n",
      "19    1.8\n",
      "Name: (Lower Manhattan, Hudson Square), dtype: float64\n",
      "485    2.8\n",
      "Name: (Mandeville, Mandeville), dtype: float64\n",
      "486    30.0\n",
      "Name: (Mandeville, Metairie), dtype: float64\n",
      "473    1.5\n",
      "Name: (Marigny, Storyville), dtype: float64\n",
      "352    14.5\n",
      "Name: (Mcvan, Capitol One), dtype: float64\n",
      "882    45.2\n",
      "Name: (Mebane, Cary), dtype: float64\n",
      "418    0.7\n",
      "Name: (Medical Centre, Tudor City), dtype: float64\n",
      "939    36.6\n",
      "Name: (Menlo Park, Berkeley), dtype: float64\n",
      "366    7.9\n",
      "Name: (Menlo Park, Newark), dtype: float64\n",
      "937    4.0\n",
      "Name: (Menlo Park, Palo Alto), dtype: float64\n",
      "311    7.5\n",
      "Name: (Meredith, Cedar Hill), dtype: float64\n",
      "317    1.4\n",
      "Name: (Meredith Townes, Harden Place), dtype: float64\n",
      "51     14.7\n",
      "202     9.4\n",
      "Name: (Meredith Townes, Leesville Hollow), dtype: float64\n",
      "449    2.7\n",
      "487    4.4\n",
      "Name: (Metairie, Kenner), dtype: float64\n",
      "471    15.5\n",
      "533     8.5\n",
      "Name: (Metairie, New Orleans), dtype: float64\n",
      "234    15.5\n",
      "Name: (Midtown, Alief), dtype: float64\n",
      "257    1.0\n",
      "Name: (Midtown, Downtown), dtype: float64\n",
      "12    6.2\n",
      "Name: (Midtown, East Harlem), dtype: float64\n",
      "261    23.0\n",
      "Name: (Midtown, Greater Greenspoint), dtype: float64\n",
      "17    1.9\n",
      "Name: (Midtown, Hudson Square), dtype: float64\n",
      "238    1.1\n",
      "239    1.1\n",
      "Name: (Midtown, Midtown), dtype: float64\n",
      "15    1.7\n",
      "Name: (Midtown, Midtown East), dtype: float64\n",
      "105    2.0\n",
      "Name: (Midtown, Midtown West), dtype: float64\n",
      "240    13.2\n",
      "243     9.4\n",
      "254    10.4\n",
      "259     8.8\n",
      "Name: (Midtown, Sharpstown), dtype: float64\n",
      "252    5.9\n",
      "Name: (Midtown, Washington Avenue), dtype: float64\n",
      "16    1.9\n",
      "Name: (Midtown East, Midtown), dtype: float64\n",
      "546    195.3\n",
      "Name: (Morrisville, Banner Elk), dtype: float64\n",
      "27      8.0\n",
      "68      9.7\n",
      "82      6.1\n",
      "90      6.1\n",
      "94      6.1\n",
      "       ... \n",
      "1021    3.4\n",
      "1039    3.1\n",
      "1041    4.8\n",
      "1047    3.0\n",
      "1053    3.1\n",
      "Name: (Morrisville, Cary), Length: 75, dtype: float64\n",
      "542     2.2\n",
      "545    11.8\n",
      "814     6.2\n",
      "863     5.9\n",
      "896     5.0\n",
      "Name: (Morrisville, Morrisville), dtype: float64\n",
      "97     17.0\n",
      "375     7.6\n",
      "604    14.7\n",
      "884    10.3\n",
      "Name: (Morrisville, Raleigh), dtype: float64\n",
      "961    43.6\n",
      "Name: (Mountain View, Berkeley), dtype: float64\n",
      "923    0.9\n",
      "Name: (NOMA, Downtown), dtype: float64\n",
      "467    11.8\n",
      "Name: (New Orleans, Chalmette), dtype: float64\n",
      "478    46.9\n",
      "Name: (New Orleans, Covington), dtype: float64\n",
      "451    12.9\n",
      "453    12.2\n",
      "474    12.6\n",
      "531    13.0\n",
      "536    13.6\n",
      "538    12.3\n",
      "Name: (New Orleans, Kenner), dtype: float64\n",
      "448    14.5\n",
      "529    12.5\n",
      "Name: (New Orleans, Metairie), dtype: float64\n",
      "423    16.3\n",
      "Name: (New York, Jamaica), dtype: float64\n",
      "106    13.0\n",
      "Name: (New York, Long Island City), dtype: float64\n",
      "10    10.8\n",
      "Name: (New York, Queens), dtype: float64\n",
      "22    15.1\n",
      "Name: (New York, Queens County), dtype: float64\n",
      "365    9.3\n",
      "Name: (Newark, Menlo Park), dtype: float64\n",
      "367    25.6\n",
      "Name: (Newark, San Francisco), dtype: float64\n",
      "554    41.9\n",
      "Name: (Newland, Boone), dtype: float64\n",
      "553    3.8\n",
      "Name: (Newland, Newland), dtype: float64\n",
      "677    3.3\n",
      "701    4.4\n",
      "729    6.2\n",
      "Name: (Noorpur Shahan, Islamabad), dtype: float64\n",
      "152    2.2\n",
      "699    7.5\n",
      "Name: (Noorpur Shahan, Unknown Location), dtype: float64\n",
      "222    7.2\n",
      "Name: (North Austin, Coxville), dtype: float64\n",
      "838    2.2\n",
      "Name: (North Berkeley Hills, Southside), dtype: float64\n",
      "562    3.3\n",
      "Name: (Northwoods, Preston), dtype: float64\n",
      "86    3.0\n",
      "Name: (Northwoods, Tanglewood), dtype: float64\n",
      "63    3.9\n",
      "Name: (Northwoods, Whitebridge), dtype: float64\n",
      "116    3.6\n",
      "Name: (Nugegoda, Unknown Location), dtype: float64\n",
      "928    2.6\n",
      "934    6.0\n",
      "Name: (Oakland, Berkeley), dtype: float64\n",
      "435    13.2\n",
      "830    13.0\n",
      "Name: (Oakland, Emeryville), dtype: float64\n",
      "834    9.5\n",
      "965    9.7\n",
      "Name: (Oakland, San Francisco), dtype: float64\n",
      "438    5.2\n",
      "Name: (Oakland, Unknown Location), dtype: float64\n",
      "377    11.2\n",
      "Name: (Old City, Hog Island), dtype: float64\n",
      "376    2.9\n",
      "Name: (Old City, Parkway Museums), dtype: float64\n",
      "275     6.6\n",
      "278     7.3\n",
      "281    25.7\n",
      "285    13.8\n",
      "286    28.8\n",
      "288    16.4\n",
      "291    20.3\n",
      "Name: (Orlando, Kissimmee), dtype: float64\n",
      "277    6.9\n",
      "Name: (Orlando, Orlando), dtype: float64\n",
      "938    2.5\n",
      "Name: (Palo Alto, Menlo Park), dtype: float64\n",
      "363    9.8\n",
      "Name: (Palo Alto, Sunnyvale), dtype: float64\n",
      "347    3.1\n",
      "433    2.8\n",
      "598    1.7\n",
      "859    8.7\n",
      "861    2.1\n",
      "Name: (Parkway, Whitebridge), dtype: float64\n",
      "514    1.2\n",
      "Name: (Parkwood, Parkwood), dtype: float64\n",
      "528    7.0\n",
      "Name: (Pontchartrain Beach, CBD), dtype: float64\n",
      "470    1.7\n",
      "475    4.8\n",
      "Name: (Pontchartrain Shores, Pontchartrain Shores), dtype: float64\n",
      "250    7.5\n",
      "Name: (Port Bolivar, Galveston), dtype: float64\n",
      "248    2.1\n",
      "249    1.2\n",
      "Name: (Port Bolivar, Port Bolivar), dtype: float64\n",
      "372    2.7\n",
      "Name: (Preston, Westpark Place), dtype: float64\n",
      "88     1.5\n",
      "157    1.7\n",
      "265    1.6\n",
      "563    4.7\n",
      "576    1.4\n",
      "Name: (Preston, Whitebridge), dtype: float64\n",
      "670    6.4\n",
      "Name: (R?walpindi, Islamabad), dtype: float64\n",
      "140    23.1\n",
      "696     4.1\n",
      "Name: (R?walpindi, R?walpindi), dtype: float64\n",
      "141     16.5\n",
      "656     15.6\n",
      "679      2.0\n",
      "697     18.7\n",
      "763     18.2\n",
      "788    112.6\n",
      "804     18.4\n",
      "811     12.4\n",
      "Name: (R?walpindi, Unknown Location), dtype: float64\n",
      "36     40.2\n",
      "49     12.9\n",
      "52     15.7\n",
      "77      9.0\n",
      "98     18.0\n",
      "182    17.3\n",
      "190    13.5\n",
      "203    11.9\n",
      "308    18.6\n",
      "318    15.2\n",
      "324    22.5\n",
      "335    32.8\n",
      "390    14.0\n",
      "456     5.9\n",
      "458    16.6\n",
      "502    11.3\n",
      "643    17.4\n",
      "823    17.6\n",
      "846    14.0\n",
      "848    28.2\n",
      "885    13.1\n",
      "Name: (Raleigh, Cary), dtype: float64\n",
      "93      13.5\n",
      "312     15.9\n",
      "462      9.0\n",
      "605     14.6\n",
      "1007     6.7\n",
      "Name: (Raleigh, Morrisville), dtype: float64\n",
      "48     2.7\n",
      "188    4.9\n",
      "Name: (Raleigh, Raleigh), dtype: float64\n",
      "1068    7.2\n",
      "Name: (Rawalpindi, Islamabad), dtype: float64\n",
      "1072    3.3\n",
      "Name: (Rawalpindi, Rawalpindi), dtype: float64\n",
      "1062      0.7\n",
      "1073     19.4\n",
      "1088    103.0\n",
      "Name: (Rawalpindi, Unknown Location), dtype: float64\n",
      "214    1.0\n",
      "Name: (Red River District, Downtown), dtype: float64\n",
      "356    2.9\n",
      "Name: (Redmond, Bellevue), dtype: float64\n",
      "909    2.8\n",
      "912    2.8\n",
      "Name: (Renaissance, Agnew), dtype: float64\n",
      "298    144.0\n",
      "Name: (Ridgeland, Florence), dtype: float64\n",
      "419    2.5\n",
      "Name: (Rose Hill, Soho), dtype: float64\n",
      "835    1.7\n",
      "Name: (SOMISSPO, French Quarter), dtype: float64\n",
      "932    1.1\n",
      "Name: (SOMISSPO, Tenderloin), dtype: float64\n",
      "836    10.8\n",
      "917    13.2\n",
      "919    11.3\n",
      "966    11.8\n",
      "Name: (San Francisco, Berkeley), dtype: float64\n",
      "440    11.6\n",
      "Name: (San Francisco, Emeryville), dtype: float64\n",
      "927    12.7\n",
      "933     9.9\n",
      "Name: (San Francisco, Oakland), dtype: float64\n",
      "362    20.5\n",
      "Name: (San Francisco, Palo Alto), dtype: float64\n",
      "842    44.6\n",
      "Name: (San Jose, Emeryville), dtype: float64\n",
      "905    3.8\n",
      "Name: (San Jose, Santa Clara), dtype: float64\n",
      "283    6.2\n",
      "Name: (Sand Lake Commons, Sky Lake), dtype: float64\n",
      "913    43.9\n",
      "Name: (Santa Clara, Berkeley), dtype: float64\n",
      "384    1.2\n",
      "Name: (Savon Height, Kilarney Woods), dtype: float64\n",
      "858    4.9\n",
      "Name: (Savon Height, Parkway), dtype: float64\n",
      "382    3.6\n",
      "886    9.6\n",
      "Name: (Savon Height, Whitebridge), dtype: float64\n",
      "417    3.3\n",
      "Name: (Seaport, Gramercy-Flatiron), dtype: float64\n",
      "355    14.2\n",
      "Name: (Seattle, Redmond), dtype: float64\n",
      "255    1.2\n",
      "Name: (Sharpstown, Briar Meadow), dtype: float64\n",
      "237    10.4\n",
      "242     9.2\n",
      "260    25.6\n",
      "Name: (Sharpstown, Midtown), dtype: float64\n",
      "241    1.0\n",
      "Name: (Sharpstown, Sharpstown), dtype: float64\n",
      "284    6.0\n",
      "Name: (Sky Lake, Sand Lake Commons), dtype: float64\n",
      "420    0.5\n",
      "Name: (Soho, Tribeca), dtype: float64\n",
      "943    6.4\n",
      "Name: (South, Downtown), dtype: float64\n",
      "947    0.8\n",
      "Name: (South, Southwest Berkeley), dtype: float64\n",
      "956    0.9\n",
      "Name: (South Berkeley, Southside), dtype: float64\n",
      "210    1.6\n",
      "Name: (South Congress, Arts District), dtype: float64\n",
      "219    8.4\n",
      "Name: (South Congress, North Austin), dtype: float64\n",
      "215    2.1\n",
      "217    1.9\n",
      "225    2.7\n",
      "Name: (South Congress, The Drag), dtype: float64\n",
      "957    2.4\n",
      "959    1.9\n",
      "Name: (Southside, Central), dtype: float64\n",
      "955    0.9\n",
      "Name: (Southside, South Berkeley), dtype: float64\n",
      "953    2.1\n",
      "Name: (Southside, West Berkeley), dtype: float64\n",
      "535    1.8\n",
      "Name: (St Thomas, CBD), dtype: float64\n",
      "570    3.0\n",
      "Name: (Stonewater, Lexington Park at Amberly), dtype: float64\n",
      "447    1.5\n",
      "Name: (Storyville, Faubourg Marigny), dtype: float64\n",
      "472    1.6\n",
      "Name: (Storyville, Marigny), dtype: float64\n",
      "245    35.1\n",
      "Name: (Sugar Land, Houston), dtype: float64\n",
      "512    8.7\n",
      "Name: (Summerwinds, Whitebridge), dtype: float64\n",
      "925    0.7\n",
      "Name: (Sunnyside, Ingleside), dtype: float64\n",
      "364    17.6\n",
      "Name: (Sunnyvale, Newark), dtype: float64\n",
      "346    7.5\n",
      "Name: (Tanglewood, Parkway), dtype: float64\n",
      "87    5.1\n",
      "Name: (Tanglewood, Preston), dtype: float64\n",
      "161    5.8\n",
      "328    6.5\n",
      "Name: (Tanglewood, Whitebridge), dtype: float64\n",
      "931    1.2\n",
      "Name: (Tenderloin, SOMISSPO), dtype: float64\n",
      "211    2.0\n",
      "228    1.7\n",
      "Name: (The Drag, Congress Ave District), dtype: float64\n",
      "218    5.7\n",
      "226    2.0\n",
      "Name: (The Drag, Convention Center District), dtype: float64\n",
      "221    10.5\n",
      "Name: (The Drag, North Austin), dtype: float64\n",
      "216    2.2\n",
      "224    2.0\n",
      "Name: (The Drag, South Congress), dtype: float64\n",
      "874    29.8\n",
      "Name: (Topton, Bryson City), dtype: float64\n",
      "872    40.7\n",
      "Name: (Topton, Hayesville), dtype: float64\n",
      "397    3.3\n",
      "Name: (Townes at Everett Crossing, Chessington), dtype: float64\n",
      "421    0.9\n",
      "Name: (Tribeca, Financial District), dtype: float64\n",
      "354    5.0\n",
      "Name: (University District, Capitol One), dtype: float64\n",
      "109    14.1\n",
      "117    14.7\n",
      "Name: (Unknown Location, Colombo), dtype: float64\n",
      "122     12.7\n",
      "124      5.2\n",
      "128      7.6\n",
      "132      3.5\n",
      "136     14.4\n",
      "144     14.5\n",
      "145      2.4\n",
      "150     13.0\n",
      "663      5.7\n",
      "680      5.7\n",
      "685     12.2\n",
      "688      9.8\n",
      "690      4.9\n",
      "732     10.8\n",
      "736      2.8\n",
      "738      5.5\n",
      "741      8.8\n",
      "745     13.0\n",
      "748      9.2\n",
      "764     10.5\n",
      "767     18.3\n",
      "778     12.6\n",
      "781     10.5\n",
      "805      9.8\n",
      "1060     7.7\n",
      "1075     5.7\n",
      "1080     4.9\n",
      "1084     2.1\n",
      "Name: (Unknown Location, Islamabad), dtype: float64\n",
      "1123     7.9\n",
      "1126    10.4\n",
      "1129     4.4\n",
      "1134    11.9\n",
      "1141     4.1\n",
      "1144    12.9\n",
      "Name: (Unknown Location, Kar?chi), dtype: float64\n",
      "711      9.2\n",
      "715      3.9\n",
      "719      2.9\n",
      "723      9.6\n",
      "791     33.2\n",
      "794      8.3\n",
      "1095    14.0\n",
      "1102     7.1\n",
      "1104    10.7\n",
      "Name: (Unknown Location, Lahore), dtype: float64\n",
      "986    3.5\n",
      "Name: (Unknown Location, Morrisville), dtype: float64\n",
      "676     7.6\n",
      "698     8.7\n",
      "700     7.7\n",
      "728    10.1\n",
      "Name: (Unknown Location, Noorpur Shahan), dtype: float64\n",
      "154    20.0\n",
      "669     1.4\n",
      "695     7.9\n",
      "750    17.2\n",
      "769     9.6\n",
      "787    17.9\n",
      "803    17.1\n",
      "810    12.7\n",
      "813    17.0\n",
      "Name: (Unknown Location, R?walpindi), dtype: float64\n",
      "1067    10.2\n",
      "1071    12.0\n",
      "1087    12.0\n",
      "Name: (Unknown Location, Rawalpindi), dtype: float64\n",
      "121     23.5\n",
      "126     18.3\n",
      "127     11.2\n",
      "135      2.5\n",
      "142      3.2\n",
      "        ... \n",
      "1093     3.2\n",
      "1094    12.3\n",
      "1100     9.6\n",
      "1101     1.3\n",
      "1152    16.2\n",
      "Name: (Unknown Location, Unknown Location), Length: 86, dtype: float64\n",
      "1018    1.8\n",
      "Name: (Wake Co., Morrisville), dtype: float64\n",
      "652    31.9\n",
      "Name: (Wake Forest, Cary), dtype: float64\n",
      "630    6.6\n",
      "Name: (Washington, Arlington), dtype: float64\n",
      "253    6.2\n",
      "Name: (Washington Avenue, Midtown), dtype: float64\n",
      "460    2.1\n",
      "Name: (Waverly Place, Macgregor Downs), dtype: float64\n",
      "170    6.8\n",
      "205    7.6\n",
      "342    6.8\n",
      "Name: (Waverly Place, Whitebridge), dtype: float64\n",
      "177    8.0\n",
      "301    8.0\n",
      "322    8.0\n",
      "588    8.0\n",
      "Name: (Wayne Ridge, Whitebridge), dtype: float64\n",
      "915    3.3\n",
      "935    0.8\n",
      "Name: (West Berkeley, Central), dtype: float64\n",
      "837    4.1\n",
      "Name: (West Berkeley, North Berkeley Hills), dtype: float64\n",
      "946    5.9\n",
      "Name: (West Berkeley, South), dtype: float64\n",
      "954    4.0\n",
      "Name: (West Berkeley, Southside), dtype: float64\n",
      "624    2.0\n",
      "Name: (West End, Northwest Rectangle), dtype: float64\n",
      "6    7.1\n",
      "Name: (West Palm Beach, Palm Beach), dtype: float64\n",
      "5    4.3\n",
      "Name: (West Palm Beach, West Palm Beach), dtype: float64\n",
      "230    2.1\n",
      "Name: (West University, Congress Ave District), dtype: float64\n",
      "209    2.3\n",
      "Name: (West University, South Congress), dtype: float64\n",
      "194    4.2\n",
      "403    3.8\n",
      "Name: (Weston, Weston), dtype: float64\n",
      "167    4.2\n",
      "Name: (Westpark Place, Hazelwood), dtype: float64\n",
      "163    1.7\n",
      "179    2.3\n",
      "267    2.2\n",
      "306    1.8\n",
      "344    2.3\n",
      "349    3.9\n",
      "373    1.9\n",
      "391    1.8\n",
      "428    1.7\n",
      "496    1.8\n",
      "600    2.1\n",
      "608    2.2\n",
      "611    1.8\n",
      "654    1.8\n",
      "894    1.8\n",
      "901    1.8\n",
      "Name: (Westpark Place, Whitebridge), dtype: float64\n",
      "612    6.2\n",
      "Name: (Whitebridge, Arlington Park at Amberly), dtype: float64\n",
      "332    4.9\n",
      "Name: (Whitebridge, Burtrose), dtype: float64\n",
      "572    3.9\n",
      "Name: (Whitebridge, Chessington), dtype: float64\n",
      "83     4.3\n",
      "199    2.8\n",
      "309    2.8\n",
      "574    2.8\n",
      "577    2.7\n",
      "617    2.8\n",
      "632    2.7\n",
      "827    3.3\n",
      "Name: (Whitebridge, Edgehill Farms), dtype: float64\n",
      "636    5.2\n",
      "Name: (Whitebridge, Farmington Woods), dtype: float64\n",
      "40     2.0\n",
      "174    2.6\n",
      "407    3.0\n",
      "898    2.5\n",
      "Name: (Whitebridge, Hazelwood), dtype: float64\n",
      "158    3.1\n",
      "648    2.2\n",
      "Name: (Whitebridge, Heritage Pines), dtype: float64\n",
      "383    4.5\n",
      "Name: (Whitebridge, Kildaire Farms), dtype: float64\n",
      "32    7.2\n",
      "Name: (Whitebridge, Lake Wellingborough), dtype: float64\n",
      "72    9.0\n",
      "Name: (Whitebridge, Macgregor Downs), dtype: float64\n",
      "85     5.3\n",
      "180    5.2\n",
      "Name: (Whitebridge, Northwoods), dtype: float64\n",
      "595    1.5\n",
      "819    2.1\n",
      "860    2.1\n",
      "Name: (Whitebridge, Parkway), dtype: float64\n",
      "156    1.5\n",
      "264    1.7\n",
      "371    2.8\n",
      "Name: (Whitebridge, Preston), dtype: float64\n",
      "381    3.6\n",
      "401    7.8\n",
      "857    3.6\n",
      "Name: (Whitebridge, Savon Height), dtype: float64\n",
      "569    6.4\n",
      "Name: (Whitebridge, Stonewater), dtype: float64\n",
      "511    8.8\n",
      "Name: (Whitebridge, Summerwinds), dtype: float64\n",
      "160    6.0\n",
      "327    6.0\n",
      "345    6.2\n",
      "Name: (Whitebridge, Tanglewood), dtype: float64\n",
      "169    7.7\n",
      "204    7.2\n",
      "341    7.7\n",
      "459    7.1\n",
      "641    6.9\n",
      "Name: (Whitebridge, Waverly Place), dtype: float64\n",
      "176    8.0\n",
      "196    7.8\n",
      "300    7.9\n",
      "321    8.2\n",
      "Name: (Whitebridge, Wayne Ridge), dtype: float64\n",
      "42     1.9\n",
      "162    6.3\n",
      "166    1.9\n",
      "171    2.1\n",
      "178    2.2\n",
      "266    2.0\n",
      "343    2.1\n",
      "348    2.2\n",
      "495    1.6\n",
      "599    2.2\n",
      "607    2.2\n",
      "653    1.9\n",
      "893    1.4\n",
      "900    1.4\n",
      "Name: (Whitebridge, Westpark Place), dtype: float64\n",
      "206    1.6\n",
      "263    1.4\n",
      "516    0.6\n",
      "889    1.2\n",
      "890    1.0\n",
      "891    4.1\n",
      "892    4.2\n",
      "Name: (Whitebridge, Whitebridge), dtype: float64\n",
      "64    8.3\n",
      "Name: (Whitebridge, Williamsburg Manor), dtype: float64\n",
      "870    133.6\n",
      "Name: (Winston Salem, Asheville), dtype: float64\n"
     ]
    },
    {
     "data": {
      "text/plain": [
       "START*         STOP*             \n",
       "Agnew          Agnew                 None\n",
       "               Cory                  None\n",
       "               Renaissance           None\n",
       "Almond         Bryson City           None\n",
       "Apex           Apex                  None\n",
       "                                     ... \n",
       "Whitebridge    Wayne Ridge           None\n",
       "               Westpark Place        None\n",
       "               Whitebridge           None\n",
       "               Williamsburg Manor    None\n",
       "Winston Salem  Asheville             None\n",
       "Name: MILES*, Length: 363, dtype: object"
      ]
     },
     "execution_count": 27,
     "metadata": {},
     "output_type": "execute_result"
    }
   ],
   "source": [
    "df.groupby(['START*','STOP*'])['MILES*'].apply(print)"
   ]
  },
  {
   "cell_type": "code",
   "execution_count": 28,
   "id": "017a0024",
   "metadata": {
    "execution": {
     "iopub.execute_input": "2022-01-22T11:49:39.562345Z",
     "iopub.status.busy": "2022-01-22T11:49:39.557440Z",
     "iopub.status.idle": "2022-01-22T11:49:39.565723Z",
     "shell.execute_reply": "2022-01-22T11:49:39.565232Z",
     "shell.execute_reply.started": "2022-01-22T10:35:15.968558Z"
    },
    "papermill": {
     "duration": 0.067937,
     "end_time": "2022-01-22T11:49:39.565911",
     "exception": false,
     "start_time": "2022-01-22T11:49:39.497974",
     "status": "completed"
    },
    "tags": []
   },
   "outputs": [
    {
     "data": {
      "text/plain": [
       "START*            STOP*           \n",
       "Morrisville       Cary                395.7\n",
       "Cary              Durham              390.0\n",
       "                  Morrisville         380.0\n",
       "Raleigh           Cary                365.7\n",
       "Cary              Raleigh             336.5\n",
       "Durham            Cary                324.5\n",
       "Latta             Jacksonville        310.3\n",
       "Islamabad         Unknown Location    267.0\n",
       "Cary              Cary                255.9\n",
       "Unknown Location  Islamabad           243.8\n",
       "Name: MILES*, dtype: float64"
      ]
     },
     "execution_count": 28,
     "metadata": {},
     "output_type": "execute_result"
    }
   ],
   "source": [
    "df.groupby(['START*','STOP*'])['MILES*'].sum().sort_values(ascending=False)[1:11]"
   ]
  },
  {
   "cell_type": "markdown",
   "id": "dc53e415",
   "metadata": {
    "papermill": {
     "duration": 0.052,
     "end_time": "2022-01-22T11:49:39.672704",
     "exception": false,
     "start_time": "2022-01-22T11:49:39.620704",
     "status": "completed"
    },
    "tags": []
   },
   "source": [
    "**Cary-Durham & Cary-Morrisville and vice versa are the farthest distance ride.**"
   ]
  },
  {
   "cell_type": "markdown",
   "id": "49a4e859",
   "metadata": {
    "papermill": {
     "duration": 0.052437,
     "end_time": "2022-01-22T11:49:39.778133",
     "exception": false,
     "start_time": "2022-01-22T11:49:39.725696",
     "status": "completed"
    },
    "tags": []
   },
   "source": [
    "**Checking for Round Trip**"
   ]
  },
  {
   "cell_type": "code",
   "execution_count": 29,
   "id": "42f097d3",
   "metadata": {
    "execution": {
     "iopub.execute_input": "2022-01-22T11:49:39.941008Z",
     "iopub.status.busy": "2022-01-22T11:49:39.929284Z",
     "iopub.status.idle": "2022-01-22T11:49:40.082855Z",
     "shell.execute_reply": "2022-01-22T11:49:40.082013Z",
     "shell.execute_reply.started": "2022-01-22T10:39:32.598592Z"
    },
    "papermill": {
     "duration": 0.250902,
     "end_time": "2022-01-22T11:49:40.082996",
     "exception": false,
     "start_time": "2022-01-22T11:49:39.832094",
     "status": "completed"
    },
    "tags": []
   },
   "outputs": [
    {
     "data": {
      "text/plain": [
       "<AxesSubplot:xlabel='ROUND_TRIP*', ylabel='count'>"
      ]
     },
     "execution_count": 29,
     "metadata": {},
     "output_type": "execute_result"
    },
    {
     "data": {
      "image/png": "[encoded data removed]",
      "text/plain": [
       "<Figure size 432x288 with 1 Axes>"
      ]
     },
     "metadata": {
      "needs_background": "light"
     },
     "output_type": "display_data"
    }
   ],
   "source": [
    "def is_roundtrip(df):\n",
    "    if df['START*'] == df['STOP*']:\n",
    "        return 'YES'\n",
    "    else:\n",
    "        return 'NO'\n",
    "    \n",
    "df['ROUND_TRIP*'] = df.apply(is_roundtrip, axis=1)\n",
    "\n",
    "sns.countplot(x='ROUND_TRIP*',data=df, order=df['ROUND_TRIP*'].value_counts().index)"
   ]
  },
  {
   "cell_type": "code",
   "execution_count": 30,
   "id": "dd5cca9b",
   "metadata": {
    "execution": {
     "iopub.execute_input": "2022-01-22T11:49:40.197110Z",
     "iopub.status.busy": "2022-01-22T11:49:40.196319Z",
     "iopub.status.idle": "2022-01-22T11:49:40.200027Z",
     "shell.execute_reply": "2022-01-22T11:49:40.199486Z",
     "shell.execute_reply.started": "2022-01-22T10:40:39.413162Z"
    },
    "papermill": {
     "duration": 0.064335,
     "end_time": "2022-01-22T11:49:40.200172",
     "exception": false,
     "start_time": "2022-01-22T11:49:40.135837",
     "status": "completed"
    },
    "tags": []
   },
   "outputs": [
    {
     "data": {
      "text/plain": [
       "NO     866\n",
       "YES    288\n",
       "Name: ROUND_TRIP*, dtype: int64"
      ]
     },
     "execution_count": 30,
     "metadata": {},
     "output_type": "execute_result"
    }
   ],
   "source": [
    "df['ROUND_TRIP*'].value_counts()"
   ]
  },
  {
   "cell_type": "markdown",
   "id": "c960a2d6",
   "metadata": {
    "papermill": {
     "duration": 0.053187,
     "end_time": "2022-01-22T11:49:40.306562",
     "exception": false,
     "start_time": "2022-01-22T11:49:40.253375",
     "status": "completed"
    },
    "tags": []
   },
   "source": [
    "**User mostly take single-trip Uber rides.**<br>\n",
    "* Around 75% trip is single-trip and 25% are ROund-Trip"
   ]
  },
  {
   "cell_type": "markdown",
   "id": "6e3ae176",
   "metadata": {
    "papermill": {
     "duration": 0.051901,
     "end_time": "2022-01-22T11:49:40.411781",
     "exception": false,
     "start_time": "2022-01-22T11:49:40.359880",
     "status": "completed"
    },
    "tags": []
   },
   "source": [
    "## Calculating Ride duration"
   ]
  },
  {
   "cell_type": "code",
   "execution_count": 31,
   "id": "7f378cc9",
   "metadata": {
    "execution": {
     "iopub.execute_input": "2022-01-22T11:49:40.524471Z",
     "iopub.status.busy": "2022-01-22T11:49:40.523633Z",
     "iopub.status.idle": "2022-01-22T11:49:40.527560Z",
     "shell.execute_reply": "2022-01-22T11:49:40.527092Z",
     "shell.execute_reply.started": "2022-01-22T10:45:55.096863Z"
    },
    "papermill": {
     "duration": 0.063244,
     "end_time": "2022-01-22T11:49:40.527691",
     "exception": false,
     "start_time": "2022-01-22T11:49:40.464447",
     "status": "completed"
    },
    "tags": []
   },
   "outputs": [
    {
     "data": {
      "text/plain": [
       "START_DATE*    datetime64[ns]\n",
       "END_DATE*      datetime64[ns]\n",
       "CATEGORY*              object\n",
       "START*                 object\n",
       "STOP*                  object\n",
       "MILES*                float64\n",
       "ROUND_TRIP*            object\n",
       "dtype: object"
      ]
     },
     "execution_count": 31,
     "metadata": {},
     "output_type": "execute_result"
    }
   ],
   "source": [
    "df.dtypes"
   ]
  },
  {
   "cell_type": "code",
   "execution_count": 32,
   "id": "b76f8c3e",
   "metadata": {
    "execution": {
     "iopub.execute_input": "2022-01-22T11:49:40.643184Z",
     "iopub.status.busy": "2022-01-22T11:49:40.642531Z",
     "iopub.status.idle": "2022-01-22T11:49:40.655914Z",
     "shell.execute_reply": "2022-01-22T11:49:40.656404Z",
     "shell.execute_reply.started": "2022-01-22T10:46:23.114839Z"
    },
    "papermill": {
     "duration": 0.074753,
     "end_time": "2022-01-22T11:49:40.656564",
     "exception": false,
     "start_time": "2022-01-22T11:49:40.581811",
     "status": "completed"
    },
    "tags": []
   },
   "outputs": [
    {
     "data": {
      "text/html": [
       "<div>\n",
       "<style scoped>\n",
       "    .dataframe tbody tr th:only-of-type {\n",
       "        vertical-align: middle;\n",
       "    }\n",
       "\n",
       "    .dataframe tbody tr th {\n",
       "        vertical-align: top;\n",
       "    }\n",
       "\n",
       "    .dataframe thead th {\n",
       "        text-align: right;\n",
       "    }\n",
       "</style>\n",
       "<table border=\"1\" class=\"dataframe\">\n",
       "  <thead>\n",
       "    <tr style=\"text-align: right;\">\n",
       "      <th></th>\n",
       "      <th>START_DATE*</th>\n",
       "      <th>END_DATE*</th>\n",
       "      <th>CATEGORY*</th>\n",
       "      <th>START*</th>\n",
       "      <th>STOP*</th>\n",
       "      <th>MILES*</th>\n",
       "      <th>ROUND_TRIP*</th>\n",
       "      <th>Ride_duration</th>\n",
       "    </tr>\n",
       "  </thead>\n",
       "  <tbody>\n",
       "    <tr>\n",
       "      <th>0</th>\n",
       "      <td>2016-01-01 21:11:00</td>\n",
       "      <td>2016-01-01 21:17:00</td>\n",
       "      <td>Business</td>\n",
       "      <td>Fort Pierce</td>\n",
       "      <td>Fort Pierce</td>\n",
       "      <td>5.1</td>\n",
       "      <td>YES</td>\n",
       "      <td>0 days 00:06:00</td>\n",
       "    </tr>\n",
       "    <tr>\n",
       "      <th>1</th>\n",
       "      <td>2016-01-02 01:25:00</td>\n",
       "      <td>2016-01-02 01:37:00</td>\n",
       "      <td>Business</td>\n",
       "      <td>Fort Pierce</td>\n",
       "      <td>Fort Pierce</td>\n",
       "      <td>5.0</td>\n",
       "      <td>YES</td>\n",
       "      <td>0 days 00:12:00</td>\n",
       "    </tr>\n",
       "    <tr>\n",
       "      <th>2</th>\n",
       "      <td>2016-01-02 20:25:00</td>\n",
       "      <td>2016-01-02 20:38:00</td>\n",
       "      <td>Business</td>\n",
       "      <td>Fort Pierce</td>\n",
       "      <td>Fort Pierce</td>\n",
       "      <td>4.8</td>\n",
       "      <td>YES</td>\n",
       "      <td>0 days 00:13:00</td>\n",
       "    </tr>\n",
       "    <tr>\n",
       "      <th>3</th>\n",
       "      <td>2016-01-05 17:31:00</td>\n",
       "      <td>2016-01-05 17:45:00</td>\n",
       "      <td>Business</td>\n",
       "      <td>Fort Pierce</td>\n",
       "      <td>Fort Pierce</td>\n",
       "      <td>4.7</td>\n",
       "      <td>YES</td>\n",
       "      <td>0 days 00:14:00</td>\n",
       "    </tr>\n",
       "    <tr>\n",
       "      <th>4</th>\n",
       "      <td>2016-01-06 14:42:00</td>\n",
       "      <td>2016-01-06 15:49:00</td>\n",
       "      <td>Business</td>\n",
       "      <td>Fort Pierce</td>\n",
       "      <td>West Palm Beach</td>\n",
       "      <td>63.7</td>\n",
       "      <td>NO</td>\n",
       "      <td>0 days 01:07:00</td>\n",
       "    </tr>\n",
       "  </tbody>\n",
       "</table>\n",
       "</div>"
      ],
      "text/plain": [
       "          START_DATE*           END_DATE* CATEGORY*       START*  \\\n",
       "0 2016-01-01 21:11:00 2016-01-01 21:17:00  Business  Fort Pierce   \n",
       "1 2016-01-02 01:25:00 2016-01-02 01:37:00  Business  Fort Pierce   \n",
       "2 2016-01-02 20:25:00 2016-01-02 20:38:00  Business  Fort Pierce   \n",
       "3 2016-01-05 17:31:00 2016-01-05 17:45:00  Business  Fort Pierce   \n",
       "4 2016-01-06 14:42:00 2016-01-06 15:49:00  Business  Fort Pierce   \n",
       "\n",
       "             STOP*  MILES* ROUND_TRIP*   Ride_duration  \n",
       "0      Fort Pierce     5.1         YES 0 days 00:06:00  \n",
       "1      Fort Pierce     5.0         YES 0 days 00:12:00  \n",
       "2      Fort Pierce     4.8         YES 0 days 00:13:00  \n",
       "3      Fort Pierce     4.7         YES 0 days 00:14:00  \n",
       "4  West Palm Beach    63.7          NO 0 days 01:07:00  "
      ]
     },
     "execution_count": 32,
     "metadata": {},
     "output_type": "execute_result"
    }
   ],
   "source": [
    "df['Ride_duration'] = df['END_DATE*']-df['START_DATE*']\n",
    "df.head()"
   ]
  },
  {
   "cell_type": "markdown",
   "id": "3db53437",
   "metadata": {
    "papermill": {
     "duration": 0.053425,
     "end_time": "2022-01-22T11:49:40.763759",
     "exception": false,
     "start_time": "2022-01-22T11:49:40.710334",
     "status": "completed"
    },
    "tags": []
   },
   "source": [
    "**Converting Ride_duration into Minutes**"
   ]
  },
  {
   "cell_type": "code",
   "execution_count": 33,
   "id": "a566994f",
   "metadata": {
    "execution": {
     "iopub.execute_input": "2022-01-22T11:49:40.875236Z",
     "iopub.status.busy": "2022-01-22T11:49:40.874631Z",
     "iopub.status.idle": "2022-01-22T11:49:40.909408Z",
     "shell.execute_reply": "2022-01-22T11:49:40.908700Z",
     "shell.execute_reply.started": "2022-01-22T10:49:13.845701Z"
    },
    "papermill": {
     "duration": 0.091179,
     "end_time": "2022-01-22T11:49:40.909605",
     "exception": false,
     "start_time": "2022-01-22T11:49:40.818426",
     "status": "completed"
    },
    "tags": []
   },
   "outputs": [
    {
     "data": {
      "text/html": [
       "<div>\n",
       "<style scoped>\n",
       "    .dataframe tbody tr th:only-of-type {\n",
       "        vertical-align: middle;\n",
       "    }\n",
       "\n",
       "    .dataframe tbody tr th {\n",
       "        vertical-align: top;\n",
       "    }\n",
       "\n",
       "    .dataframe thead th {\n",
       "        text-align: right;\n",
       "    }\n",
       "</style>\n",
       "<table border=\"1\" class=\"dataframe\">\n",
       "  <thead>\n",
       "    <tr style=\"text-align: right;\">\n",
       "      <th></th>\n",
       "      <th>START_DATE*</th>\n",
       "      <th>END_DATE*</th>\n",
       "      <th>CATEGORY*</th>\n",
       "      <th>START*</th>\n",
       "      <th>STOP*</th>\n",
       "      <th>MILES*</th>\n",
       "      <th>ROUND_TRIP*</th>\n",
       "      <th>Ride_duration</th>\n",
       "    </tr>\n",
       "  </thead>\n",
       "  <tbody>\n",
       "    <tr>\n",
       "      <th>0</th>\n",
       "      <td>2016-01-01 21:11:00</td>\n",
       "      <td>2016-01-01 21:17:00</td>\n",
       "      <td>Business</td>\n",
       "      <td>Fort Pierce</td>\n",
       "      <td>Fort Pierce</td>\n",
       "      <td>5.1</td>\n",
       "      <td>YES</td>\n",
       "      <td>6.0</td>\n",
       "    </tr>\n",
       "    <tr>\n",
       "      <th>1</th>\n",
       "      <td>2016-01-02 01:25:00</td>\n",
       "      <td>2016-01-02 01:37:00</td>\n",
       "      <td>Business</td>\n",
       "      <td>Fort Pierce</td>\n",
       "      <td>Fort Pierce</td>\n",
       "      <td>5.0</td>\n",
       "      <td>YES</td>\n",
       "      <td>12.0</td>\n",
       "    </tr>\n",
       "    <tr>\n",
       "      <th>2</th>\n",
       "      <td>2016-01-02 20:25:00</td>\n",
       "      <td>2016-01-02 20:38:00</td>\n",
       "      <td>Business</td>\n",
       "      <td>Fort Pierce</td>\n",
       "      <td>Fort Pierce</td>\n",
       "      <td>4.8</td>\n",
       "      <td>YES</td>\n",
       "      <td>13.0</td>\n",
       "    </tr>\n",
       "    <tr>\n",
       "      <th>3</th>\n",
       "      <td>2016-01-05 17:31:00</td>\n",
       "      <td>2016-01-05 17:45:00</td>\n",
       "      <td>Business</td>\n",
       "      <td>Fort Pierce</td>\n",
       "      <td>Fort Pierce</td>\n",
       "      <td>4.7</td>\n",
       "      <td>YES</td>\n",
       "      <td>14.0</td>\n",
       "    </tr>\n",
       "    <tr>\n",
       "      <th>4</th>\n",
       "      <td>2016-01-06 14:42:00</td>\n",
       "      <td>2016-01-06 15:49:00</td>\n",
       "      <td>Business</td>\n",
       "      <td>Fort Pierce</td>\n",
       "      <td>West Palm Beach</td>\n",
       "      <td>63.7</td>\n",
       "      <td>NO</td>\n",
       "      <td>67.0</td>\n",
       "    </tr>\n",
       "  </tbody>\n",
       "</table>\n",
       "</div>"
      ],
      "text/plain": [
       "          START_DATE*           END_DATE* CATEGORY*       START*  \\\n",
       "0 2016-01-01 21:11:00 2016-01-01 21:17:00  Business  Fort Pierce   \n",
       "1 2016-01-02 01:25:00 2016-01-02 01:37:00  Business  Fort Pierce   \n",
       "2 2016-01-02 20:25:00 2016-01-02 20:38:00  Business  Fort Pierce   \n",
       "3 2016-01-05 17:31:00 2016-01-05 17:45:00  Business  Fort Pierce   \n",
       "4 2016-01-06 14:42:00 2016-01-06 15:49:00  Business  Fort Pierce   \n",
       "\n",
       "             STOP*  MILES* ROUND_TRIP*  Ride_duration  \n",
       "0      Fort Pierce     5.1         YES            6.0  \n",
       "1      Fort Pierce     5.0         YES           12.0  \n",
       "2      Fort Pierce     4.8         YES           13.0  \n",
       "3      Fort Pierce     4.7         YES           14.0  \n",
       "4  West Palm Beach    63.7          NO           67.0  "
      ]
     },
     "execution_count": 33,
     "metadata": {},
     "output_type": "execute_result"
    }
   ],
   "source": [
    "# using datetime.Timedelta  => https://pandas.pydata.org/pandas-docs/stable/user_guide/timedeltas.html\n",
    "df.loc[:, 'Ride_duration'] = df['Ride_duration'].apply(lambda x: pd.Timedelta.to_pytimedelta(x).days/(24*60) + pd.Timedelta.to_pytimedelta(x).seconds/60)\n",
    "df.head()"
   ]
  },
  {
   "cell_type": "code",
   "execution_count": 34,
   "id": "378ae8c9",
   "metadata": {
    "execution": {
     "iopub.execute_input": "2022-01-22T11:49:41.046304Z",
     "iopub.status.busy": "2022-01-22T11:49:41.045382Z",
     "iopub.status.idle": "2022-01-22T11:49:41.076104Z",
     "shell.execute_reply": "2022-01-22T11:49:41.076506Z",
     "shell.execute_reply.started": "2022-01-22T11:01:18.349111Z"
    },
    "papermill": {
     "duration": 0.095498,
     "end_time": "2022-01-22T11:49:41.076672",
     "exception": false,
     "start_time": "2022-01-22T11:49:40.981174",
     "status": "completed"
    },
    "tags": []
   },
   "outputs": [
    {
     "data": {
      "text/html": [
       "<div>\n",
       "<style scoped>\n",
       "    .dataframe tbody tr th:only-of-type {\n",
       "        vertical-align: middle;\n",
       "    }\n",
       "\n",
       "    .dataframe tbody tr th {\n",
       "        vertical-align: top;\n",
       "    }\n",
       "\n",
       "    .dataframe thead th {\n",
       "        text-align: right;\n",
       "    }\n",
       "</style>\n",
       "<table border=\"1\" class=\"dataframe\">\n",
       "  <thead>\n",
       "    <tr style=\"text-align: right;\">\n",
       "      <th></th>\n",
       "      <th>START_DATE*</th>\n",
       "      <th>END_DATE*</th>\n",
       "      <th>CATEGORY*</th>\n",
       "      <th>START*</th>\n",
       "      <th>STOP*</th>\n",
       "      <th>MILES*</th>\n",
       "      <th>ROUND_TRIP*</th>\n",
       "      <th>Ride_duration</th>\n",
       "      <th>month</th>\n",
       "      <th>Year</th>\n",
       "      <th>Day</th>\n",
       "      <th>Hour</th>\n",
       "      <th>day_of_week</th>\n",
       "    </tr>\n",
       "  </thead>\n",
       "  <tbody>\n",
       "    <tr>\n",
       "      <th>0</th>\n",
       "      <td>2016-01-01 21:11:00</td>\n",
       "      <td>2016-01-01 21:17:00</td>\n",
       "      <td>Business</td>\n",
       "      <td>Fort Pierce</td>\n",
       "      <td>Fort Pierce</td>\n",
       "      <td>5.1</td>\n",
       "      <td>YES</td>\n",
       "      <td>6.0</td>\n",
       "      <td>1</td>\n",
       "      <td>2016</td>\n",
       "      <td>1</td>\n",
       "      <td>21</td>\n",
       "      <td>Fri</td>\n",
       "    </tr>\n",
       "    <tr>\n",
       "      <th>1</th>\n",
       "      <td>2016-01-02 01:25:00</td>\n",
       "      <td>2016-01-02 01:37:00</td>\n",
       "      <td>Business</td>\n",
       "      <td>Fort Pierce</td>\n",
       "      <td>Fort Pierce</td>\n",
       "      <td>5.0</td>\n",
       "      <td>YES</td>\n",
       "      <td>12.0</td>\n",
       "      <td>1</td>\n",
       "      <td>2016</td>\n",
       "      <td>2</td>\n",
       "      <td>1</td>\n",
       "      <td>Sat</td>\n",
       "    </tr>\n",
       "    <tr>\n",
       "      <th>2</th>\n",
       "      <td>2016-01-02 20:25:00</td>\n",
       "      <td>2016-01-02 20:38:00</td>\n",
       "      <td>Business</td>\n",
       "      <td>Fort Pierce</td>\n",
       "      <td>Fort Pierce</td>\n",
       "      <td>4.8</td>\n",
       "      <td>YES</td>\n",
       "      <td>13.0</td>\n",
       "      <td>1</td>\n",
       "      <td>2016</td>\n",
       "      <td>2</td>\n",
       "      <td>20</td>\n",
       "      <td>Sat</td>\n",
       "    </tr>\n",
       "    <tr>\n",
       "      <th>3</th>\n",
       "      <td>2016-01-05 17:31:00</td>\n",
       "      <td>2016-01-05 17:45:00</td>\n",
       "      <td>Business</td>\n",
       "      <td>Fort Pierce</td>\n",
       "      <td>Fort Pierce</td>\n",
       "      <td>4.7</td>\n",
       "      <td>YES</td>\n",
       "      <td>14.0</td>\n",
       "      <td>1</td>\n",
       "      <td>2016</td>\n",
       "      <td>5</td>\n",
       "      <td>17</td>\n",
       "      <td>Tue</td>\n",
       "    </tr>\n",
       "    <tr>\n",
       "      <th>4</th>\n",
       "      <td>2016-01-06 14:42:00</td>\n",
       "      <td>2016-01-06 15:49:00</td>\n",
       "      <td>Business</td>\n",
       "      <td>Fort Pierce</td>\n",
       "      <td>West Palm Beach</td>\n",
       "      <td>63.7</td>\n",
       "      <td>NO</td>\n",
       "      <td>67.0</td>\n",
       "      <td>1</td>\n",
       "      <td>2016</td>\n",
       "      <td>6</td>\n",
       "      <td>14</td>\n",
       "      <td>Wed</td>\n",
       "    </tr>\n",
       "  </tbody>\n",
       "</table>\n",
       "</div>"
      ],
      "text/plain": [
       "          START_DATE*           END_DATE* CATEGORY*       START*  \\\n",
       "0 2016-01-01 21:11:00 2016-01-01 21:17:00  Business  Fort Pierce   \n",
       "1 2016-01-02 01:25:00 2016-01-02 01:37:00  Business  Fort Pierce   \n",
       "2 2016-01-02 20:25:00 2016-01-02 20:38:00  Business  Fort Pierce   \n",
       "3 2016-01-05 17:31:00 2016-01-05 17:45:00  Business  Fort Pierce   \n",
       "4 2016-01-06 14:42:00 2016-01-06 15:49:00  Business  Fort Pierce   \n",
       "\n",
       "             STOP*  MILES* ROUND_TRIP*  Ride_duration  month  Year  Day  Hour  \\\n",
       "0      Fort Pierce     5.1         YES            6.0      1  2016    1    21   \n",
       "1      Fort Pierce     5.0         YES           12.0      1  2016    2     1   \n",
       "2      Fort Pierce     4.8         YES           13.0      1  2016    2    20   \n",
       "3      Fort Pierce     4.7         YES           14.0      1  2016    5    17   \n",
       "4  West Palm Beach    63.7          NO           67.0      1  2016    6    14   \n",
       "\n",
       "  day_of_week  \n",
       "0         Fri  \n",
       "1         Sat  \n",
       "2         Sat  \n",
       "3         Tue  \n",
       "4         Wed  "
      ]
     },
     "execution_count": 34,
     "metadata": {},
     "output_type": "execute_result"
    }
   ],
   "source": [
    "#Capture Hour, Day, Month and Year of Ride in a separate column\n",
    "df['month'] = pd.to_datetime(df['START_DATE*']).dt.month\n",
    "df['Year'] = pd.to_datetime(df['START_DATE*']).dt.year\n",
    "df['Day'] = pd.to_datetime(df['START_DATE*']).dt.day\n",
    "df['Hour'] = pd.to_datetime(df['START_DATE*']).dt.hour\n",
    "\n",
    "df['day_of_week'] = pd.to_datetime(df['START_DATE*']).dt.dayofweek\n",
    "days = {0:'Mon',1:'Tue',2:'Wed',3:'Thur',4:'Fri',5:'Sat',6:'Sun'}\n",
    "\n",
    "df['day_of_week'] = df['day_of_week'].apply(lambda x: days[x])\n",
    "\n",
    "df.head()"
   ]
  },
  {
   "cell_type": "markdown",
   "id": "73d8d9f2",
   "metadata": {
    "papermill": {
     "duration": 0.05442,
     "end_time": "2022-01-22T11:49:41.185927",
     "exception": false,
     "start_time": "2022-01-22T11:49:41.131507",
     "status": "completed"
    },
    "tags": []
   },
   "source": [
    "**Addding month name instead of month number**"
   ]
  },
  {
   "cell_type": "code",
   "execution_count": 35,
   "id": "b33f5ccf",
   "metadata": {
    "execution": {
     "iopub.execute_input": "2022-01-22T11:49:41.301868Z",
     "iopub.status.busy": "2022-01-22T11:49:41.300984Z",
     "iopub.status.idle": "2022-01-22T11:49:41.321570Z",
     "shell.execute_reply": "2022-01-22T11:49:41.321062Z",
     "shell.execute_reply.started": "2022-01-22T11:02:35.514024Z"
    },
    "papermill": {
     "duration": 0.079911,
     "end_time": "2022-01-22T11:49:41.321701",
     "exception": false,
     "start_time": "2022-01-22T11:49:41.241790",
     "status": "completed"
    },
    "tags": []
   },
   "outputs": [
    {
     "data": {
      "text/html": [
       "<div>\n",
       "<style scoped>\n",
       "    .dataframe tbody tr th:only-of-type {\n",
       "        vertical-align: middle;\n",
       "    }\n",
       "\n",
       "    .dataframe tbody tr th {\n",
       "        vertical-align: top;\n",
       "    }\n",
       "\n",
       "    .dataframe thead th {\n",
       "        text-align: right;\n",
       "    }\n",
       "</style>\n",
       "<table border=\"1\" class=\"dataframe\">\n",
       "  <thead>\n",
       "    <tr style=\"text-align: right;\">\n",
       "      <th></th>\n",
       "      <th>START_DATE*</th>\n",
       "      <th>END_DATE*</th>\n",
       "      <th>CATEGORY*</th>\n",
       "      <th>START*</th>\n",
       "      <th>STOP*</th>\n",
       "      <th>MILES*</th>\n",
       "      <th>ROUND_TRIP*</th>\n",
       "      <th>Ride_duration</th>\n",
       "      <th>month</th>\n",
       "      <th>Year</th>\n",
       "      <th>Day</th>\n",
       "      <th>Hour</th>\n",
       "      <th>day_of_week</th>\n",
       "    </tr>\n",
       "  </thead>\n",
       "  <tbody>\n",
       "    <tr>\n",
       "      <th>0</th>\n",
       "      <td>2016-01-01 21:11:00</td>\n",
       "      <td>2016-01-01 21:17:00</td>\n",
       "      <td>Business</td>\n",
       "      <td>Fort Pierce</td>\n",
       "      <td>Fort Pierce</td>\n",
       "      <td>5.1</td>\n",
       "      <td>YES</td>\n",
       "      <td>6.0</td>\n",
       "      <td>Jan</td>\n",
       "      <td>2016</td>\n",
       "      <td>1</td>\n",
       "      <td>21</td>\n",
       "      <td>Fri</td>\n",
       "    </tr>\n",
       "    <tr>\n",
       "      <th>1</th>\n",
       "      <td>2016-01-02 01:25:00</td>\n",
       "      <td>2016-01-02 01:37:00</td>\n",
       "      <td>Business</td>\n",
       "      <td>Fort Pierce</td>\n",
       "      <td>Fort Pierce</td>\n",
       "      <td>5.0</td>\n",
       "      <td>YES</td>\n",
       "      <td>12.0</td>\n",
       "      <td>Jan</td>\n",
       "      <td>2016</td>\n",
       "      <td>2</td>\n",
       "      <td>1</td>\n",
       "      <td>Sat</td>\n",
       "    </tr>\n",
       "    <tr>\n",
       "      <th>2</th>\n",
       "      <td>2016-01-02 20:25:00</td>\n",
       "      <td>2016-01-02 20:38:00</td>\n",
       "      <td>Business</td>\n",
       "      <td>Fort Pierce</td>\n",
       "      <td>Fort Pierce</td>\n",
       "      <td>4.8</td>\n",
       "      <td>YES</td>\n",
       "      <td>13.0</td>\n",
       "      <td>Jan</td>\n",
       "      <td>2016</td>\n",
       "      <td>2</td>\n",
       "      <td>20</td>\n",
       "      <td>Sat</td>\n",
       "    </tr>\n",
       "    <tr>\n",
       "      <th>3</th>\n",
       "      <td>2016-01-05 17:31:00</td>\n",
       "      <td>2016-01-05 17:45:00</td>\n",
       "      <td>Business</td>\n",
       "      <td>Fort Pierce</td>\n",
       "      <td>Fort Pierce</td>\n",
       "      <td>4.7</td>\n",
       "      <td>YES</td>\n",
       "      <td>14.0</td>\n",
       "      <td>Jan</td>\n",
       "      <td>2016</td>\n",
       "      <td>5</td>\n",
       "      <td>17</td>\n",
       "      <td>Tue</td>\n",
       "    </tr>\n",
       "    <tr>\n",
       "      <th>4</th>\n",
       "      <td>2016-01-06 14:42:00</td>\n",
       "      <td>2016-01-06 15:49:00</td>\n",
       "      <td>Business</td>\n",
       "      <td>Fort Pierce</td>\n",
       "      <td>West Palm Beach</td>\n",
       "      <td>63.7</td>\n",
       "      <td>NO</td>\n",
       "      <td>67.0</td>\n",
       "      <td>Jan</td>\n",
       "      <td>2016</td>\n",
       "      <td>6</td>\n",
       "      <td>14</td>\n",
       "      <td>Wed</td>\n",
       "    </tr>\n",
       "  </tbody>\n",
       "</table>\n",
       "</div>"
      ],
      "text/plain": [
       "          START_DATE*           END_DATE* CATEGORY*       START*  \\\n",
       "0 2016-01-01 21:11:00 2016-01-01 21:17:00  Business  Fort Pierce   \n",
       "1 2016-01-02 01:25:00 2016-01-02 01:37:00  Business  Fort Pierce   \n",
       "2 2016-01-02 20:25:00 2016-01-02 20:38:00  Business  Fort Pierce   \n",
       "3 2016-01-05 17:31:00 2016-01-05 17:45:00  Business  Fort Pierce   \n",
       "4 2016-01-06 14:42:00 2016-01-06 15:49:00  Business  Fort Pierce   \n",
       "\n",
       "             STOP*  MILES* ROUND_TRIP*  Ride_duration month  Year  Day  Hour  \\\n",
       "0      Fort Pierce     5.1         YES            6.0   Jan  2016    1    21   \n",
       "1      Fort Pierce     5.0         YES           12.0   Jan  2016    2     1   \n",
       "2      Fort Pierce     4.8         YES           13.0   Jan  2016    2    20   \n",
       "3      Fort Pierce     4.7         YES           14.0   Jan  2016    5    17   \n",
       "4  West Palm Beach    63.7          NO           67.0   Jan  2016    6    14   \n",
       "\n",
       "  day_of_week  \n",
       "0         Fri  \n",
       "1         Sat  \n",
       "2         Sat  \n",
       "3         Tue  \n",
       "4         Wed  "
      ]
     },
     "execution_count": 35,
     "metadata": {},
     "output_type": "execute_result"
    }
   ],
   "source": [
    "df['month'] = df['month'].apply(lambda x: calendar.month_abbr[x])\n",
    "df.head()"
   ]
  },
  {
   "cell_type": "markdown",
   "id": "743ca7ad",
   "metadata": {
    "papermill": {
     "duration": 0.054936,
     "end_time": "2022-01-22T11:49:41.433714",
     "exception": false,
     "start_time": "2022-01-22T11:49:41.378778",
     "status": "completed"
    },
    "tags": []
   },
   "source": [
    "**Total rides/month**"
   ]
  },
  {
   "cell_type": "code",
   "execution_count": 36,
   "id": "9afd942c",
   "metadata": {
    "execution": {
     "iopub.execute_input": "2022-01-22T11:49:41.556686Z",
     "iopub.status.busy": "2022-01-22T11:49:41.556097Z",
     "iopub.status.idle": "2022-01-22T11:49:41.560186Z",
     "shell.execute_reply": "2022-01-22T11:49:41.560739Z",
     "shell.execute_reply.started": "2022-01-22T11:03:10.236397Z"
    },
    "papermill": {
     "duration": 0.066494,
     "end_time": "2022-01-22T11:49:41.560947",
     "exception": false,
     "start_time": "2022-01-22T11:49:41.494453",
     "status": "completed"
    },
    "tags": []
   },
   "outputs": [
    {
     "name": "stdout",
     "output_type": "stream",
     "text": [
      "Dec    146\n",
      "Aug    133\n",
      "Nov    122\n",
      "Feb    115\n",
      "Mar    113\n",
      "Jul    112\n",
      "Jun    107\n",
      "Oct    106\n",
      "Jan     61\n",
      "Apr     54\n",
      "May     49\n",
      "Sep     36\n",
      "Name: month, dtype: int64\n"
     ]
    }
   ],
   "source": [
    "print(df['month'].value_counts())"
   ]
  },
  {
   "cell_type": "code",
   "execution_count": 37,
   "id": "d317f077",
   "metadata": {
    "execution": {
     "iopub.execute_input": "2022-01-22T11:49:41.678763Z",
     "iopub.status.busy": "2022-01-22T11:49:41.678170Z",
     "iopub.status.idle": "2022-01-22T11:49:42.004649Z",
     "shell.execute_reply": "2022-01-22T11:49:42.004043Z",
     "shell.execute_reply.started": "2022-01-22T11:05:23.648417Z"
    },
    "papermill": {
     "duration": 0.388169,
     "end_time": "2022-01-22T11:49:42.004784",
     "exception": false,
     "start_time": "2022-01-22T11:49:41.616615",
     "status": "completed"
    },
    "tags": []
   },
   "outputs": [
    {
     "data": {
      "text/plain": [
       "<AxesSubplot:xlabel='month', ylabel='count'>"
      ]
     },
     "execution_count": 37,
     "metadata": {},
     "output_type": "execute_result"
    },
    {
     "data": {
      "image/png": "[encoded data removed]",
      "text/plain": [
       "<Figure size 432x288 with 1 Axes>"
      ]
     },
     "metadata": {
      "needs_background": "light"
     },
     "output_type": "display_data"
    }
   ],
   "source": [
    "sns.countplot(x='month',data=df,order=pd.value_counts(df['month']).index,hue='CATEGORY*')"
   ]
  },
  {
   "cell_type": "markdown",
   "id": "1185b9e4",
   "metadata": {
    "papermill": {
     "duration": 0.060823,
     "end_time": "2022-01-22T11:49:42.124563",
     "exception": false,
     "start_time": "2022-01-22T11:49:42.063740",
     "status": "completed"
    },
    "tags": []
   },
   "source": [
    "**Most number of rides were in month of December (all of them were Business trips)**<br>\n",
    "Top 5 months having most trips were:    December,August,November,February & March.<br>\n",
    "**Uber Ride was used at Feb,Mar,Jul,Jun & Apr for personal trips.**"
   ]
  },
  {
   "cell_type": "code",
   "execution_count": 38,
   "id": "2a91c23b",
   "metadata": {
    "execution": {
     "iopub.execute_input": "2022-01-22T11:49:42.257030Z",
     "iopub.status.busy": "2022-01-22T11:49:42.256346Z",
     "iopub.status.idle": "2022-01-22T11:49:42.640923Z",
     "shell.execute_reply": "2022-01-22T11:49:42.640398Z",
     "shell.execute_reply.started": "2022-01-22T11:10:11.879520Z"
    },
    "papermill": {
     "duration": 0.456695,
     "end_time": "2022-01-22T11:49:42.641063",
     "exception": false,
     "start_time": "2022-01-22T11:49:42.184368",
     "status": "completed"
    },
    "tags": []
   },
   "outputs": [
    {
     "data": {
      "text/plain": [
       "<AxesSubplot:xlabel='day_of_week', ylabel='count'>"
      ]
     },
     "execution_count": 38,
     "metadata": {},
     "output_type": "execute_result"
    },
    {
     "data": {
      "image/png": "[encoded data removed]",
      "text/plain": [
       "<Figure size 432x288 with 1 Axes>"
      ]
     },
     "metadata": {
      "needs_background": "light"
     },
     "output_type": "display_data"
    }
   ],
   "source": [
    "sns.countplot(x='day_of_week',data=df,order=pd.value_counts(df['day_of_week']).index,hue='CATEGORY*')"
   ]
  },
  {
   "cell_type": "markdown",
   "id": "fb1ed554",
   "metadata": {
    "papermill": {
     "duration": 0.059447,
     "end_time": "2022-01-22T11:49:42.761119",
     "exception": false,
     "start_time": "2022-01-22T11:49:42.701672",
     "status": "completed"
    },
    "tags": []
   },
   "source": [
    "**FRIDAY was the day at which uber rides were mostly used**"
   ]
  },
  {
   "cell_type": "markdown",
   "id": "af8f38a4",
   "metadata": {
    "papermill": {
     "duration": 0.059215,
     "end_time": "2022-01-22T11:49:42.879544",
     "exception": false,
     "start_time": "2022-01-22T11:49:42.820329",
     "status": "completed"
    },
    "tags": []
   },
   "source": [
    "**Average distance covered/month**"
   ]
  },
  {
   "cell_type": "code",
   "execution_count": 39,
   "id": "0a7f0ab4",
   "metadata": {
    "execution": {
     "iopub.execute_input": "2022-01-22T11:49:43.003001Z",
     "iopub.status.busy": "2022-01-22T11:49:43.002400Z",
     "iopub.status.idle": "2022-01-22T11:49:43.269373Z",
     "shell.execute_reply": "2022-01-22T11:49:43.268888Z",
     "shell.execute_reply.started": "2022-01-22T11:15:52.740920Z"
    },
    "papermill": {
     "duration": 0.329433,
     "end_time": "2022-01-22T11:49:43.269511",
     "exception": false,
     "start_time": "2022-01-22T11:49:42.940078",
     "status": "completed"
    },
    "tags": []
   },
   "outputs": [
    {
     "data": {
      "image/png": "[encoded data removed]",
      "text/plain": [
       "<Figure size 432x288 with 1 Axes>"
      ]
     },
     "metadata": {
      "needs_background": "light"
     },
     "output_type": "display_data"
    }
   ],
   "source": [
    "df.groupby('month').mean()['MILES*'].sort_values(ascending = False).plot(kind='bar')\n",
    "plt.axhline(df['MILES*'].mean(), linestyle='--', color='red', label='Mean distance')\n",
    "plt.legend()\n",
    "plt.show()"
   ]
  },
  {
   "cell_type": "markdown",
   "id": "c5383428",
   "metadata": {
    "papermill": {
     "duration": 0.064523,
     "end_time": "2022-01-22T11:49:43.393028",
     "exception": false,
     "start_time": "2022-01-22T11:49:43.328505",
     "status": "completed"
    },
    "tags": []
   },
   "source": [
    "**User's Longest ride were on April & shortest were on November**"
   ]
  },
  {
   "cell_type": "code",
   "execution_count": 40,
   "id": "56f5e339",
   "metadata": {
    "execution": {
     "iopub.execute_input": "2022-01-22T11:49:43.526876Z",
     "iopub.status.busy": "2022-01-22T11:49:43.524359Z",
     "iopub.status.idle": "2022-01-22T11:49:43.949845Z",
     "shell.execute_reply": "2022-01-22T11:49:43.949081Z",
     "shell.execute_reply.started": "2022-01-22T11:18:59.411378Z"
    },
    "papermill": {
     "duration": 0.495518,
     "end_time": "2022-01-22T11:49:43.950106",
     "exception": false,
     "start_time": "2022-01-22T11:49:43.454588",
     "status": "completed"
    },
    "tags": []
   },
   "outputs": [
    {
     "data": {
      "text/plain": [
       "<AxesSubplot:xlabel='Hour', ylabel='count'>"
      ]
     },
     "execution_count": 40,
     "metadata": {},
     "output_type": "execute_result"
    },
    {
     "data": {
      "image/png": "[encoded data removed]",
      "text/plain": [
       "<Figure size 432x288 with 1 Axes>"
      ]
     },
     "metadata": {
      "needs_background": "light"
     },
     "output_type": "display_data"
    }
   ],
   "source": [
    "sns.countplot(x='Hour',data=df,order=pd.value_counts(df['Hour']).index,hue='CATEGORY*')"
   ]
  },
  {
   "cell_type": "markdown",
   "id": "5dbedce0",
   "metadata": {
    "papermill": {
     "duration": 0.05941,
     "end_time": "2022-01-22T11:49:44.070881",
     "exception": false,
     "start_time": "2022-01-22T11:49:44.011471",
     "status": "completed"
    },
    "tags": []
   },
   "source": [
    "**Maximim number of trips were on Evening & at noon.**"
   ]
  },
  {
   "cell_type": "markdown",
   "id": "23503fc5",
   "metadata": {
    "papermill": {
     "duration": 0.062165,
     "end_time": "2022-01-22T11:49:44.193844",
     "exception": false,
     "start_time": "2022-01-22T11:49:44.131679",
     "status": "completed"
    },
    "tags": []
   },
   "source": [
    "### Calculating Trip speed"
   ]
  },
  {
   "cell_type": "code",
   "execution_count": 41,
   "id": "e3973e3c",
   "metadata": {
    "execution": {
     "iopub.execute_input": "2022-01-22T11:49:44.332223Z",
     "iopub.status.busy": "2022-01-22T11:49:44.325568Z",
     "iopub.status.idle": "2022-01-22T11:49:44.335329Z",
     "shell.execute_reply": "2022-01-22T11:49:44.335898Z",
     "shell.execute_reply.started": "2022-01-22T11:23:15.145484Z"
    },
    "papermill": {
     "duration": 0.082406,
     "end_time": "2022-01-22T11:49:44.336064",
     "exception": false,
     "start_time": "2022-01-22T11:49:44.253658",
     "status": "completed"
    },
    "tags": []
   },
   "outputs": [
    {
     "data": {
      "text/html": [
       "<div>\n",
       "<style scoped>\n",
       "    .dataframe tbody tr th:only-of-type {\n",
       "        vertical-align: middle;\n",
       "    }\n",
       "\n",
       "    .dataframe tbody tr th {\n",
       "        vertical-align: top;\n",
       "    }\n",
       "\n",
       "    .dataframe thead th {\n",
       "        text-align: right;\n",
       "    }\n",
       "</style>\n",
       "<table border=\"1\" class=\"dataframe\">\n",
       "  <thead>\n",
       "    <tr style=\"text-align: right;\">\n",
       "      <th></th>\n",
       "      <th>START_DATE*</th>\n",
       "      <th>END_DATE*</th>\n",
       "      <th>CATEGORY*</th>\n",
       "      <th>START*</th>\n",
       "      <th>STOP*</th>\n",
       "      <th>MILES*</th>\n",
       "      <th>ROUND_TRIP*</th>\n",
       "      <th>Ride_duration</th>\n",
       "      <th>month</th>\n",
       "      <th>Year</th>\n",
       "      <th>Day</th>\n",
       "      <th>Hour</th>\n",
       "      <th>day_of_week</th>\n",
       "    </tr>\n",
       "  </thead>\n",
       "  <tbody>\n",
       "    <tr>\n",
       "      <th>0</th>\n",
       "      <td>2016-01-01 21:11:00</td>\n",
       "      <td>2016-01-01 21:17:00</td>\n",
       "      <td>Business</td>\n",
       "      <td>Fort Pierce</td>\n",
       "      <td>Fort Pierce</td>\n",
       "      <td>5.1</td>\n",
       "      <td>YES</td>\n",
       "      <td>6.0</td>\n",
       "      <td>Jan</td>\n",
       "      <td>2016</td>\n",
       "      <td>1</td>\n",
       "      <td>21</td>\n",
       "      <td>Fri</td>\n",
       "    </tr>\n",
       "    <tr>\n",
       "      <th>1</th>\n",
       "      <td>2016-01-02 01:25:00</td>\n",
       "      <td>2016-01-02 01:37:00</td>\n",
       "      <td>Business</td>\n",
       "      <td>Fort Pierce</td>\n",
       "      <td>Fort Pierce</td>\n",
       "      <td>5.0</td>\n",
       "      <td>YES</td>\n",
       "      <td>12.0</td>\n",
       "      <td>Jan</td>\n",
       "      <td>2016</td>\n",
       "      <td>2</td>\n",
       "      <td>1</td>\n",
       "      <td>Sat</td>\n",
       "    </tr>\n",
       "    <tr>\n",
       "      <th>2</th>\n",
       "      <td>2016-01-02 20:25:00</td>\n",
       "      <td>2016-01-02 20:38:00</td>\n",
       "      <td>Business</td>\n",
       "      <td>Fort Pierce</td>\n",
       "      <td>Fort Pierce</td>\n",
       "      <td>4.8</td>\n",
       "      <td>YES</td>\n",
       "      <td>13.0</td>\n",
       "      <td>Jan</td>\n",
       "      <td>2016</td>\n",
       "      <td>2</td>\n",
       "      <td>20</td>\n",
       "      <td>Sat</td>\n",
       "    </tr>\n",
       "    <tr>\n",
       "      <th>3</th>\n",
       "      <td>2016-01-05 17:31:00</td>\n",
       "      <td>2016-01-05 17:45:00</td>\n",
       "      <td>Business</td>\n",
       "      <td>Fort Pierce</td>\n",
       "      <td>Fort Pierce</td>\n",
       "      <td>4.7</td>\n",
       "      <td>YES</td>\n",
       "      <td>14.0</td>\n",
       "      <td>Jan</td>\n",
       "      <td>2016</td>\n",
       "      <td>5</td>\n",
       "      <td>17</td>\n",
       "      <td>Tue</td>\n",
       "    </tr>\n",
       "    <tr>\n",
       "      <th>4</th>\n",
       "      <td>2016-01-06 14:42:00</td>\n",
       "      <td>2016-01-06 15:49:00</td>\n",
       "      <td>Business</td>\n",
       "      <td>Fort Pierce</td>\n",
       "      <td>West Palm Beach</td>\n",
       "      <td>63.7</td>\n",
       "      <td>NO</td>\n",
       "      <td>67.0</td>\n",
       "      <td>Jan</td>\n",
       "      <td>2016</td>\n",
       "      <td>6</td>\n",
       "      <td>14</td>\n",
       "      <td>Wed</td>\n",
       "    </tr>\n",
       "  </tbody>\n",
       "</table>\n",
       "</div>"
      ],
      "text/plain": [
       "          START_DATE*           END_DATE* CATEGORY*       START*  \\\n",
       "0 2016-01-01 21:11:00 2016-01-01 21:17:00  Business  Fort Pierce   \n",
       "1 2016-01-02 01:25:00 2016-01-02 01:37:00  Business  Fort Pierce   \n",
       "2 2016-01-02 20:25:00 2016-01-02 20:38:00  Business  Fort Pierce   \n",
       "3 2016-01-05 17:31:00 2016-01-05 17:45:00  Business  Fort Pierce   \n",
       "4 2016-01-06 14:42:00 2016-01-06 15:49:00  Business  Fort Pierce   \n",
       "\n",
       "             STOP*  MILES* ROUND_TRIP*  Ride_duration month  Year  Day  Hour  \\\n",
       "0      Fort Pierce     5.1         YES            6.0   Jan  2016    1    21   \n",
       "1      Fort Pierce     5.0         YES           12.0   Jan  2016    2     1   \n",
       "2      Fort Pierce     4.8         YES           13.0   Jan  2016    2    20   \n",
       "3      Fort Pierce     4.7         YES           14.0   Jan  2016    5    17   \n",
       "4  West Palm Beach    63.7          NO           67.0   Jan  2016    6    14   \n",
       "\n",
       "  day_of_week  \n",
       "0         Fri  \n",
       "1         Sat  \n",
       "2         Sat  \n",
       "3         Tue  \n",
       "4         Wed  "
      ]
     },
     "execution_count": 41,
     "metadata": {},
     "output_type": "execute_result"
    }
   ],
   "source": [
    "df.head()"
   ]
  },
  {
   "cell_type": "code",
   "execution_count": 42,
   "id": "3f9f69e6",
   "metadata": {
    "execution": {
     "iopub.execute_input": "2022-01-22T11:49:44.460254Z",
     "iopub.status.busy": "2022-01-22T11:49:44.459620Z",
     "iopub.status.idle": "2022-01-22T11:49:44.477162Z",
     "shell.execute_reply": "2022-01-22T11:49:44.477659Z",
     "shell.execute_reply.started": "2022-01-22T11:29:55.913270Z"
    },
    "papermill": {
     "duration": 0.081494,
     "end_time": "2022-01-22T11:49:44.477839",
     "exception": false,
     "start_time": "2022-01-22T11:49:44.396345",
     "status": "completed"
    },
    "tags": []
   },
   "outputs": [
    {
     "data": {
      "text/html": [
       "<div>\n",
       "<style scoped>\n",
       "    .dataframe tbody tr th:only-of-type {\n",
       "        vertical-align: middle;\n",
       "    }\n",
       "\n",
       "    .dataframe tbody tr th {\n",
       "        vertical-align: top;\n",
       "    }\n",
       "\n",
       "    .dataframe thead th {\n",
       "        text-align: right;\n",
       "    }\n",
       "</style>\n",
       "<table border=\"1\" class=\"dataframe\">\n",
       "  <thead>\n",
       "    <tr style=\"text-align: right;\">\n",
       "      <th></th>\n",
       "      <th>START_DATE*</th>\n",
       "      <th>END_DATE*</th>\n",
       "      <th>CATEGORY*</th>\n",
       "      <th>START*</th>\n",
       "      <th>STOP*</th>\n",
       "      <th>MILES*</th>\n",
       "      <th>ROUND_TRIP*</th>\n",
       "      <th>Ride_duration</th>\n",
       "      <th>month</th>\n",
       "      <th>Year</th>\n",
       "      <th>Day</th>\n",
       "      <th>Hour</th>\n",
       "      <th>day_of_week</th>\n",
       "      <th>Duration_hours</th>\n",
       "      <th>Speed_KM</th>\n",
       "    </tr>\n",
       "  </thead>\n",
       "  <tbody>\n",
       "    <tr>\n",
       "      <th>0</th>\n",
       "      <td>2016-01-01 21:11:00</td>\n",
       "      <td>2016-01-01 21:17:00</td>\n",
       "      <td>Business</td>\n",
       "      <td>Fort Pierce</td>\n",
       "      <td>Fort Pierce</td>\n",
       "      <td>5.1</td>\n",
       "      <td>YES</td>\n",
       "      <td>6.0</td>\n",
       "      <td>Jan</td>\n",
       "      <td>2016</td>\n",
       "      <td>1</td>\n",
       "      <td>21</td>\n",
       "      <td>Fri</td>\n",
       "      <td>0.1</td>\n",
       "      <td>51.0</td>\n",
       "    </tr>\n",
       "    <tr>\n",
       "      <th>1</th>\n",
       "      <td>2016-01-02 01:25:00</td>\n",
       "      <td>2016-01-02 01:37:00</td>\n",
       "      <td>Business</td>\n",
       "      <td>Fort Pierce</td>\n",
       "      <td>Fort Pierce</td>\n",
       "      <td>5.0</td>\n",
       "      <td>YES</td>\n",
       "      <td>12.0</td>\n",
       "      <td>Jan</td>\n",
       "      <td>2016</td>\n",
       "      <td>2</td>\n",
       "      <td>1</td>\n",
       "      <td>Sat</td>\n",
       "      <td>0.2</td>\n",
       "      <td>25.0</td>\n",
       "    </tr>\n",
       "  </tbody>\n",
       "</table>\n",
       "</div>"
      ],
      "text/plain": [
       "          START_DATE*           END_DATE* CATEGORY*       START*        STOP*  \\\n",
       "0 2016-01-01 21:11:00 2016-01-01 21:17:00  Business  Fort Pierce  Fort Pierce   \n",
       "1 2016-01-02 01:25:00 2016-01-02 01:37:00  Business  Fort Pierce  Fort Pierce   \n",
       "\n",
       "   MILES* ROUND_TRIP*  Ride_duration month  Year  Day  Hour day_of_week  \\\n",
       "0     5.1         YES            6.0   Jan  2016    1    21         Fri   \n",
       "1     5.0         YES           12.0   Jan  2016    2     1         Sat   \n",
       "\n",
       "   Duration_hours  Speed_KM  \n",
       "0             0.1      51.0  \n",
       "1             0.2      25.0  "
      ]
     },
     "execution_count": 42,
     "metadata": {},
     "output_type": "execute_result"
    }
   ],
   "source": [
    "df['Duration_hours'] = df['Ride_duration']/60\n",
    "df['Speed_KM'] = df['MILES*']/df['Duration_hours']\n",
    "df.head(2)"
   ]
  },
  {
   "cell_type": "code",
   "execution_count": 43,
   "id": "d988d9c7",
   "metadata": {
    "execution": {
     "iopub.execute_input": "2022-01-22T11:49:44.603297Z",
     "iopub.status.busy": "2022-01-22T11:49:44.602467Z",
     "iopub.status.idle": "2022-01-22T11:49:45.381106Z",
     "shell.execute_reply": "2022-01-22T11:49:45.380598Z",
     "shell.execute_reply.started": "2022-01-22T11:35:50.760864Z"
    },
    "papermill": {
     "duration": 0.84268,
     "end_time": "2022-01-22T11:49:45.381237",
     "exception": false,
     "start_time": "2022-01-22T11:49:44.538557",
     "status": "completed"
    },
    "tags": []
   },
   "outputs": [
    {
     "data": {
      "text/plain": [
       "[<matplotlib.axis.XTick at 0x7f1511c32d10>,\n",
       " <matplotlib.axis.XTick at 0x7f1511d5e890>,\n",
       " <matplotlib.axis.XTick at 0x7f151170f810>,\n",
       " <matplotlib.axis.XTick at 0x7f1511ac2b90>,\n",
       " <matplotlib.axis.XTick at 0x7f151170ff10>]"
      ]
     },
     "execution_count": 43,
     "metadata": {},
     "output_type": "execute_result"
    },
    {
     "data": {
      "image/png": "[encoded data removed]",
      "text/plain": [
       "<Figure size 432x288 with 1 Axes>"
      ]
     },
     "metadata": {
      "needs_background": "light"
     },
     "output_type": "display_data"
    }
   ],
   "source": [
    "fig, ax = plt.subplots()\n",
    "sns.histplot(x='Speed_KM',data=df,kde=True,ax=ax)\n",
    "ax.set_xlim(1,31)\n",
    "ax.set_xticks([x*50 for x in range(0,5)])\n"
   ]
  },
  {
   "cell_type": "markdown",
   "id": "ce0247bf",
   "metadata": {
    "papermill": {
     "duration": 0.060561,
     "end_time": "2022-01-22T11:49:45.503462",
     "exception": false,
     "start_time": "2022-01-22T11:49:45.442901",
     "status": "completed"
    },
    "tags": []
   },
   "source": [
    "**Speed is right skewed**"
   ]
  },
  {
   "cell_type": "markdown",
   "id": "d7e2d513",
   "metadata": {
    "papermill": {
     "duration": 0.061563,
     "end_time": "2022-01-22T11:49:45.626571",
     "exception": false,
     "start_time": "2022-01-22T11:49:45.565008",
     "status": "completed"
    },
    "tags": []
   },
   "source": [
    "# Conclusion"
   ]
  },
  {
   "cell_type": "markdown",
   "id": "6033a1cb",
   "metadata": {
    "papermill": {
     "duration": 0.063813,
     "end_time": "2022-01-22T11:49:45.754009",
     "exception": false,
     "start_time": "2022-01-22T11:49:45.690196",
     "status": "completed"
    },
    "tags": []
   },
   "source": [
    "* **User mainly uses Uber cabs for its Business purposes** <br>\n",
    "    * Around 94% miles was consumed during Business trips.\n",
    "    * Only 6% miles were consumed during personal trips.\n",
    "* There are 177 unique starting points<br>\n",
    "    * **Cary is most poplular starting point for this driver.**\n",
    "* There are 188 unique Stop points.\n",
    "    * **Cary is most poplular drop point for this driver.**\n",
    "* **Cary-Durham & Cary-Morrisville and vice versa are the User's longest distance Uber ride.**\n",
    "* **User usually takes single-trip Uber rides.**\n",
    "    * Around 75% trip is single-trip and 25% are Round-Trip.\n",
    "* **User's Most number of rides were in month of December & Least were in September.**\n",
    "* **Friday has maximum number of trips.**\n",
    "* **Afternoons and evenings seem to have the maximum number of trips.**\n",
    "* **User's Longest ride were on April & shortest were on November**"
   ]
  }
 ],
 "metadata": {
  "kernelspec": {
   "display_name": "Python 3",
   "language": "python",
   "name": "python3"
  },
  "language_info": {
   "codemirror_mode": {
    "name": "ipython",
    "version": 3
   },
   "file_extension": ".py",
   "mimetype": "text/x-python",
   "name": "python",
   "nbconvert_exporter": "python",
   "pygments_lexer": "ipython3",
   "version": "3.7.12"
  },
  "papermill": {
   "default_parameters": {},
   "duration": 25.196126,
   "end_time": "2022-01-22T11:49:46.627617",
   "environment_variables": {},
   "exception": null,
   "input_path": "__notebook__.ipynb",
   "output_path": "__notebook__.ipynb",
   "parameters": {},
   "start_time": "2022-01-22T11:49:21.431491",
   "version": "2.3.3"
  }
 },
 "nbformat": 4,
 "nbformat_minor": 5
}
